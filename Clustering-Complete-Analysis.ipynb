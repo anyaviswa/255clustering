{
 "cells": [
  {
   "cell_type": "markdown",
   "metadata": {},
   "source": [
    "# Clustering Instacart Market Basket Data - Complete Analysis"
   ]
  },
  {
   "cell_type": "markdown",
   "metadata": {},
   "source": [
    "This notebook discusses the following topics\n",
    "\n",
    "<ol>\n",
    "<li>Data Preprocessing</li>\n",
    "<li>Dimensionality Reduction using SparsePCA</li>\n",
    "<li>Clustering model training using different clustering algorithms</li>\n",
    "<li>Cluster validation using Silhouette coefficient</li>\n",
    "<li>Data visualization</li>\n",
    "<li>Cluster Analysis</li>\n",
    "<li>Sampling Representative dataset</li>\n",
    "</ol>"
   ]
  },
  {
   "cell_type": "code",
   "execution_count": 1,
   "metadata": {},
   "outputs": [],
   "source": [
    "import numpy as np \n",
    "import pandas as pd\n",
    "from sklearn.decomposition import SparsePCA\n",
    "import matplotlib.pyplot as plt\n",
    "%matplotlib inline\n",
    "import seaborn as sns\n",
    "from sklearn.cluster import KMeans\n",
    "from sklearn.metrics import silhouette_samples, silhouette_score\n",
    "from sklearn.cluster import Birch\n",
    "from sklearn.cluster import MiniBatchKMeans\n",
    "from sklearn import mixture"
   ]
  },
  {
   "cell_type": "markdown",
   "metadata": {},
   "source": [
    "## Reading data\n",
    "\n",
    "The entire dataset can be downloaded from <a href=\"https://www.instacart.com/datasets/grocery-shopping-2017\">here</a>. <br>"
   ]
  },
  {
   "cell_type": "code",
   "execution_count": 2,
   "metadata": {
    "scrolled": true
   },
   "outputs": [
    {
     "name": "stdout",
     "output_type": "stream",
     "text": [
      "(3421083, 7)\n"
     ]
    },
    {
     "data": {
      "text/html": [
       "<div>\n",
       "<style scoped>\n",
       "    .dataframe tbody tr th:only-of-type {\n",
       "        vertical-align: middle;\n",
       "    }\n",
       "\n",
       "    .dataframe tbody tr th {\n",
       "        vertical-align: top;\n",
       "    }\n",
       "\n",
       "    .dataframe thead th {\n",
       "        text-align: right;\n",
       "    }\n",
       "</style>\n",
       "<table border=\"1\" class=\"dataframe\">\n",
       "  <thead>\n",
       "    <tr style=\"text-align: right;\">\n",
       "      <th></th>\n",
       "      <th>order_id</th>\n",
       "      <th>user_id</th>\n",
       "      <th>eval_set</th>\n",
       "      <th>order_number</th>\n",
       "      <th>order_dow</th>\n",
       "      <th>order_hour_of_day</th>\n",
       "      <th>days_since_prior_order</th>\n",
       "    </tr>\n",
       "  </thead>\n",
       "  <tbody>\n",
       "    <tr>\n",
       "      <th>0</th>\n",
       "      <td>2539329</td>\n",
       "      <td>1</td>\n",
       "      <td>prior</td>\n",
       "      <td>1</td>\n",
       "      <td>2</td>\n",
       "      <td>8</td>\n",
       "      <td>NaN</td>\n",
       "    </tr>\n",
       "    <tr>\n",
       "      <th>1</th>\n",
       "      <td>2398795</td>\n",
       "      <td>1</td>\n",
       "      <td>prior</td>\n",
       "      <td>2</td>\n",
       "      <td>3</td>\n",
       "      <td>7</td>\n",
       "      <td>15.0</td>\n",
       "    </tr>\n",
       "    <tr>\n",
       "      <th>2</th>\n",
       "      <td>473747</td>\n",
       "      <td>1</td>\n",
       "      <td>prior</td>\n",
       "      <td>3</td>\n",
       "      <td>3</td>\n",
       "      <td>12</td>\n",
       "      <td>21.0</td>\n",
       "    </tr>\n",
       "    <tr>\n",
       "      <th>3</th>\n",
       "      <td>2254736</td>\n",
       "      <td>1</td>\n",
       "      <td>prior</td>\n",
       "      <td>4</td>\n",
       "      <td>4</td>\n",
       "      <td>7</td>\n",
       "      <td>29.0</td>\n",
       "    </tr>\n",
       "    <tr>\n",
       "      <th>4</th>\n",
       "      <td>431534</td>\n",
       "      <td>1</td>\n",
       "      <td>prior</td>\n",
       "      <td>5</td>\n",
       "      <td>4</td>\n",
       "      <td>15</td>\n",
       "      <td>28.0</td>\n",
       "    </tr>\n",
       "  </tbody>\n",
       "</table>\n",
       "</div>"
      ],
      "text/plain": [
       "   order_id  user_id eval_set  order_number  order_dow  order_hour_of_day  \\\n",
       "0   2539329        1    prior             1          2                  8   \n",
       "1   2398795        1    prior             2          3                  7   \n",
       "2    473747        1    prior             3          3                 12   \n",
       "3   2254736        1    prior             4          4                  7   \n",
       "4    431534        1    prior             5          4                 15   \n",
       "\n",
       "   days_since_prior_order  \n",
       "0                     NaN  \n",
       "1                    15.0  \n",
       "2                    21.0  \n",
       "3                    29.0  \n",
       "4                    28.0  "
      ]
     },
     "execution_count": 2,
     "metadata": {},
     "output_type": "execute_result"
    }
   ],
   "source": [
    "#Retrieving orders details of all customers\n",
    "orders = pd.read_csv('data/orders.csv')\n",
    "print(orders.shape)\n",
    "orders.head()"
   ]
  },
  {
   "cell_type": "code",
   "execution_count": 3,
   "metadata": {},
   "outputs": [
    {
     "name": "stdout",
     "output_type": "stream",
     "text": [
      "(32434489, 4)\n"
     ]
    },
    {
     "data": {
      "text/html": [
       "<div>\n",
       "<style scoped>\n",
       "    .dataframe tbody tr th:only-of-type {\n",
       "        vertical-align: middle;\n",
       "    }\n",
       "\n",
       "    .dataframe tbody tr th {\n",
       "        vertical-align: top;\n",
       "    }\n",
       "\n",
       "    .dataframe thead th {\n",
       "        text-align: right;\n",
       "    }\n",
       "</style>\n",
       "<table border=\"1\" class=\"dataframe\">\n",
       "  <thead>\n",
       "    <tr style=\"text-align: right;\">\n",
       "      <th></th>\n",
       "      <th>order_id</th>\n",
       "      <th>product_id</th>\n",
       "      <th>add_to_cart_order</th>\n",
       "      <th>reordered</th>\n",
       "    </tr>\n",
       "  </thead>\n",
       "  <tbody>\n",
       "    <tr>\n",
       "      <th>0</th>\n",
       "      <td>2</td>\n",
       "      <td>33120</td>\n",
       "      <td>1</td>\n",
       "      <td>1</td>\n",
       "    </tr>\n",
       "    <tr>\n",
       "      <th>1</th>\n",
       "      <td>2</td>\n",
       "      <td>28985</td>\n",
       "      <td>2</td>\n",
       "      <td>1</td>\n",
       "    </tr>\n",
       "    <tr>\n",
       "      <th>2</th>\n",
       "      <td>2</td>\n",
       "      <td>9327</td>\n",
       "      <td>3</td>\n",
       "      <td>0</td>\n",
       "    </tr>\n",
       "    <tr>\n",
       "      <th>3</th>\n",
       "      <td>2</td>\n",
       "      <td>45918</td>\n",
       "      <td>4</td>\n",
       "      <td>1</td>\n",
       "    </tr>\n",
       "    <tr>\n",
       "      <th>4</th>\n",
       "      <td>2</td>\n",
       "      <td>30035</td>\n",
       "      <td>5</td>\n",
       "      <td>0</td>\n",
       "    </tr>\n",
       "    <tr>\n",
       "      <th>5</th>\n",
       "      <td>2</td>\n",
       "      <td>17794</td>\n",
       "      <td>6</td>\n",
       "      <td>1</td>\n",
       "    </tr>\n",
       "    <tr>\n",
       "      <th>6</th>\n",
       "      <td>2</td>\n",
       "      <td>40141</td>\n",
       "      <td>7</td>\n",
       "      <td>1</td>\n",
       "    </tr>\n",
       "    <tr>\n",
       "      <th>7</th>\n",
       "      <td>2</td>\n",
       "      <td>1819</td>\n",
       "      <td>8</td>\n",
       "      <td>1</td>\n",
       "    </tr>\n",
       "    <tr>\n",
       "      <th>8</th>\n",
       "      <td>2</td>\n",
       "      <td>43668</td>\n",
       "      <td>9</td>\n",
       "      <td>0</td>\n",
       "    </tr>\n",
       "    <tr>\n",
       "      <th>9</th>\n",
       "      <td>3</td>\n",
       "      <td>33754</td>\n",
       "      <td>1</td>\n",
       "      <td>1</td>\n",
       "    </tr>\n",
       "  </tbody>\n",
       "</table>\n",
       "</div>"
      ],
      "text/plain": [
       "   order_id  product_id  add_to_cart_order  reordered\n",
       "0         2       33120                  1          1\n",
       "1         2       28985                  2          1\n",
       "2         2        9327                  3          0\n",
       "3         2       45918                  4          1\n",
       "4         2       30035                  5          0\n",
       "5         2       17794                  6          1\n",
       "6         2       40141                  7          1\n",
       "7         2        1819                  8          1\n",
       "8         2       43668                  9          0\n",
       "9         3       33754                  1          1"
      ]
     },
     "execution_count": 3,
     "metadata": {},
     "output_type": "execute_result"
    }
   ],
   "source": [
    "#Retrieving the previously ordered products of the customers - prior\n",
    "pdtprior = pd.read_csv('data/order_products__prior.csv')\n",
    "print(pdtprior.shape)\n",
    "pdtprior.head(10)"
   ]
  },
  {
   "cell_type": "code",
   "execution_count": 4,
   "metadata": {
    "scrolled": true
   },
   "outputs": [
    {
     "name": "stdout",
     "output_type": "stream",
     "text": [
      "(1384617, 4)\n"
     ]
    },
    {
     "data": {
      "text/html": [
       "<div>\n",
       "<style scoped>\n",
       "    .dataframe tbody tr th:only-of-type {\n",
       "        vertical-align: middle;\n",
       "    }\n",
       "\n",
       "    .dataframe tbody tr th {\n",
       "        vertical-align: top;\n",
       "    }\n",
       "\n",
       "    .dataframe thead th {\n",
       "        text-align: right;\n",
       "    }\n",
       "</style>\n",
       "<table border=\"1\" class=\"dataframe\">\n",
       "  <thead>\n",
       "    <tr style=\"text-align: right;\">\n",
       "      <th></th>\n",
       "      <th>order_id</th>\n",
       "      <th>product_id</th>\n",
       "      <th>add_to_cart_order</th>\n",
       "      <th>reordered</th>\n",
       "    </tr>\n",
       "  </thead>\n",
       "  <tbody>\n",
       "    <tr>\n",
       "      <th>0</th>\n",
       "      <td>1</td>\n",
       "      <td>49302</td>\n",
       "      <td>1</td>\n",
       "      <td>1</td>\n",
       "    </tr>\n",
       "    <tr>\n",
       "      <th>1</th>\n",
       "      <td>1</td>\n",
       "      <td>11109</td>\n",
       "      <td>2</td>\n",
       "      <td>1</td>\n",
       "    </tr>\n",
       "    <tr>\n",
       "      <th>2</th>\n",
       "      <td>1</td>\n",
       "      <td>10246</td>\n",
       "      <td>3</td>\n",
       "      <td>0</td>\n",
       "    </tr>\n",
       "    <tr>\n",
       "      <th>3</th>\n",
       "      <td>1</td>\n",
       "      <td>49683</td>\n",
       "      <td>4</td>\n",
       "      <td>0</td>\n",
       "    </tr>\n",
       "    <tr>\n",
       "      <th>4</th>\n",
       "      <td>1</td>\n",
       "      <td>43633</td>\n",
       "      <td>5</td>\n",
       "      <td>1</td>\n",
       "    </tr>\n",
       "  </tbody>\n",
       "</table>\n",
       "</div>"
      ],
      "text/plain": [
       "   order_id  product_id  add_to_cart_order  reordered\n",
       "0         1       49302                  1          1\n",
       "1         1       11109                  2          1\n",
       "2         1       10246                  3          0\n",
       "3         1       49683                  4          0\n",
       "4         1       43633                  5          1"
      ]
     },
     "execution_count": 4,
     "metadata": {},
     "output_type": "execute_result"
    }
   ],
   "source": [
    "#Retrieving the previously ordered products of the customers - training\n",
    "pdttrain = pd.read_csv('data/order_products__train.csv')\n",
    "print(pdttrain.shape)\n",
    "pdttrain.head()"
   ]
  },
  {
   "cell_type": "code",
   "execution_count": 5,
   "metadata": {},
   "outputs": [
    {
     "name": "stdout",
     "output_type": "stream",
     "text": [
      "(33819106, 5)\n"
     ]
    },
    {
     "data": {
      "text/html": [
       "<div>\n",
       "<style scoped>\n",
       "    .dataframe tbody tr th:only-of-type {\n",
       "        vertical-align: middle;\n",
       "    }\n",
       "\n",
       "    .dataframe tbody tr th {\n",
       "        vertical-align: top;\n",
       "    }\n",
       "\n",
       "    .dataframe thead th {\n",
       "        text-align: right;\n",
       "    }\n",
       "</style>\n",
       "<table border=\"1\" class=\"dataframe\">\n",
       "  <thead>\n",
       "    <tr style=\"text-align: right;\">\n",
       "      <th></th>\n",
       "      <th>index</th>\n",
       "      <th>order_id</th>\n",
       "      <th>product_id</th>\n",
       "      <th>add_to_cart_order</th>\n",
       "      <th>reordered</th>\n",
       "    </tr>\n",
       "  </thead>\n",
       "  <tbody>\n",
       "    <tr>\n",
       "      <th>33819096</th>\n",
       "      <td>1384607</td>\n",
       "      <td>3421058</td>\n",
       "      <td>30316</td>\n",
       "      <td>6</td>\n",
       "      <td>1</td>\n",
       "    </tr>\n",
       "    <tr>\n",
       "      <th>33819097</th>\n",
       "      <td>1384608</td>\n",
       "      <td>3421058</td>\n",
       "      <td>35578</td>\n",
       "      <td>7</td>\n",
       "      <td>0</td>\n",
       "    </tr>\n",
       "    <tr>\n",
       "      <th>33819098</th>\n",
       "      <td>1384609</td>\n",
       "      <td>3421058</td>\n",
       "      <td>32650</td>\n",
       "      <td>8</td>\n",
       "      <td>1</td>\n",
       "    </tr>\n",
       "    <tr>\n",
       "      <th>33819099</th>\n",
       "      <td>1384610</td>\n",
       "      <td>3421063</td>\n",
       "      <td>49235</td>\n",
       "      <td>1</td>\n",
       "      <td>1</td>\n",
       "    </tr>\n",
       "    <tr>\n",
       "      <th>33819100</th>\n",
       "      <td>1384611</td>\n",
       "      <td>3421063</td>\n",
       "      <td>13565</td>\n",
       "      <td>2</td>\n",
       "      <td>1</td>\n",
       "    </tr>\n",
       "    <tr>\n",
       "      <th>33819101</th>\n",
       "      <td>1384612</td>\n",
       "      <td>3421063</td>\n",
       "      <td>14233</td>\n",
       "      <td>3</td>\n",
       "      <td>1</td>\n",
       "    </tr>\n",
       "    <tr>\n",
       "      <th>33819102</th>\n",
       "      <td>1384613</td>\n",
       "      <td>3421063</td>\n",
       "      <td>35548</td>\n",
       "      <td>4</td>\n",
       "      <td>1</td>\n",
       "    </tr>\n",
       "    <tr>\n",
       "      <th>33819103</th>\n",
       "      <td>1384614</td>\n",
       "      <td>3421070</td>\n",
       "      <td>35951</td>\n",
       "      <td>1</td>\n",
       "      <td>1</td>\n",
       "    </tr>\n",
       "    <tr>\n",
       "      <th>33819104</th>\n",
       "      <td>1384615</td>\n",
       "      <td>3421070</td>\n",
       "      <td>16953</td>\n",
       "      <td>2</td>\n",
       "      <td>1</td>\n",
       "    </tr>\n",
       "    <tr>\n",
       "      <th>33819105</th>\n",
       "      <td>1384616</td>\n",
       "      <td>3421070</td>\n",
       "      <td>4724</td>\n",
       "      <td>3</td>\n",
       "      <td>1</td>\n",
       "    </tr>\n",
       "  </tbody>\n",
       "</table>\n",
       "</div>"
      ],
      "text/plain": [
       "            index  order_id  product_id  add_to_cart_order  reordered\n",
       "33819096  1384607   3421058       30316                  6          1\n",
       "33819097  1384608   3421058       35578                  7          0\n",
       "33819098  1384609   3421058       32650                  8          1\n",
       "33819099  1384610   3421063       49235                  1          1\n",
       "33819100  1384611   3421063       13565                  2          1\n",
       "33819101  1384612   3421063       14233                  3          1\n",
       "33819102  1384613   3421063       35548                  4          1\n",
       "33819103  1384614   3421070       35951                  1          1\n",
       "33819104  1384615   3421070       16953                  2          1\n",
       "33819105  1384616   3421070        4724                  3          1"
      ]
     },
     "execution_count": 5,
     "metadata": {},
     "output_type": "execute_result"
    }
   ],
   "source": [
    "#merging all the ordered product details in one dataframe\n",
    "#pdtsOrdered = pd.merge(pdtprior,pdttrain,on=['order_id','order_id'])\n",
    "pdtsOrdered = pd.concat([pdtprior,pdttrain],axis=0).reset_index()\n",
    "print(pdtsOrdered.shape)\n",
    "pdtsOrdered.tail(10)"
   ]
  },
  {
   "cell_type": "code",
   "execution_count": 6,
   "metadata": {},
   "outputs": [
    {
     "name": "stdout",
     "output_type": "stream",
     "text": [
      "(49688, 4)\n"
     ]
    },
    {
     "data": {
      "text/html": [
       "<div>\n",
       "<style scoped>\n",
       "    .dataframe tbody tr th:only-of-type {\n",
       "        vertical-align: middle;\n",
       "    }\n",
       "\n",
       "    .dataframe tbody tr th {\n",
       "        vertical-align: top;\n",
       "    }\n",
       "\n",
       "    .dataframe thead th {\n",
       "        text-align: right;\n",
       "    }\n",
       "</style>\n",
       "<table border=\"1\" class=\"dataframe\">\n",
       "  <thead>\n",
       "    <tr style=\"text-align: right;\">\n",
       "      <th></th>\n",
       "      <th>product_id</th>\n",
       "      <th>product_name</th>\n",
       "      <th>aisle_id</th>\n",
       "      <th>department_id</th>\n",
       "    </tr>\n",
       "  </thead>\n",
       "  <tbody>\n",
       "    <tr>\n",
       "      <th>0</th>\n",
       "      <td>1</td>\n",
       "      <td>Chocolate Sandwich Cookies</td>\n",
       "      <td>61</td>\n",
       "      <td>19</td>\n",
       "    </tr>\n",
       "    <tr>\n",
       "      <th>1</th>\n",
       "      <td>2</td>\n",
       "      <td>All-Seasons Salt</td>\n",
       "      <td>104</td>\n",
       "      <td>13</td>\n",
       "    </tr>\n",
       "    <tr>\n",
       "      <th>2</th>\n",
       "      <td>3</td>\n",
       "      <td>Robust Golden Unsweetened Oolong Tea</td>\n",
       "      <td>94</td>\n",
       "      <td>7</td>\n",
       "    </tr>\n",
       "    <tr>\n",
       "      <th>3</th>\n",
       "      <td>4</td>\n",
       "      <td>Smart Ones Classic Favorites Mini Rigatoni Wit...</td>\n",
       "      <td>38</td>\n",
       "      <td>1</td>\n",
       "    </tr>\n",
       "    <tr>\n",
       "      <th>4</th>\n",
       "      <td>5</td>\n",
       "      <td>Green Chile Anytime Sauce</td>\n",
       "      <td>5</td>\n",
       "      <td>13</td>\n",
       "    </tr>\n",
       "  </tbody>\n",
       "</table>\n",
       "</div>"
      ],
      "text/plain": [
       "   product_id                                       product_name  aisle_id  \\\n",
       "0           1                         Chocolate Sandwich Cookies        61   \n",
       "1           2                                   All-Seasons Salt       104   \n",
       "2           3               Robust Golden Unsweetened Oolong Tea        94   \n",
       "3           4  Smart Ones Classic Favorites Mini Rigatoni Wit...        38   \n",
       "4           5                          Green Chile Anytime Sauce         5   \n",
       "\n",
       "   department_id  \n",
       "0             19  \n",
       "1             13  \n",
       "2              7  \n",
       "3              1  \n",
       "4             13  "
      ]
     },
     "execution_count": 6,
     "metadata": {},
     "output_type": "execute_result"
    }
   ],
   "source": [
    "#Retrieving the list of products\n",
    "products = pd.read_csv('data/products.csv')\n",
    "print(products.shape)\n",
    "products.head()"
   ]
  },
  {
   "cell_type": "code",
   "execution_count": 7,
   "metadata": {},
   "outputs": [
    {
     "name": "stdout",
     "output_type": "stream",
     "text": [
      "(134, 2)\n"
     ]
    },
    {
     "data": {
      "text/html": [
       "<div>\n",
       "<style scoped>\n",
       "    .dataframe tbody tr th:only-of-type {\n",
       "        vertical-align: middle;\n",
       "    }\n",
       "\n",
       "    .dataframe tbody tr th {\n",
       "        vertical-align: top;\n",
       "    }\n",
       "\n",
       "    .dataframe thead th {\n",
       "        text-align: right;\n",
       "    }\n",
       "</style>\n",
       "<table border=\"1\" class=\"dataframe\">\n",
       "  <thead>\n",
       "    <tr style=\"text-align: right;\">\n",
       "      <th></th>\n",
       "      <th>aisle_id</th>\n",
       "      <th>aisle</th>\n",
       "    </tr>\n",
       "  </thead>\n",
       "  <tbody>\n",
       "    <tr>\n",
       "      <th>0</th>\n",
       "      <td>1</td>\n",
       "      <td>prepared soups salads</td>\n",
       "    </tr>\n",
       "    <tr>\n",
       "      <th>1</th>\n",
       "      <td>2</td>\n",
       "      <td>specialty cheeses</td>\n",
       "    </tr>\n",
       "    <tr>\n",
       "      <th>2</th>\n",
       "      <td>3</td>\n",
       "      <td>energy granola bars</td>\n",
       "    </tr>\n",
       "    <tr>\n",
       "      <th>3</th>\n",
       "      <td>4</td>\n",
       "      <td>instant foods</td>\n",
       "    </tr>\n",
       "    <tr>\n",
       "      <th>4</th>\n",
       "      <td>5</td>\n",
       "      <td>marinades meat preparation</td>\n",
       "    </tr>\n",
       "  </tbody>\n",
       "</table>\n",
       "</div>"
      ],
      "text/plain": [
       "   aisle_id                       aisle\n",
       "0         1       prepared soups salads\n",
       "1         2           specialty cheeses\n",
       "2         3         energy granola bars\n",
       "3         4               instant foods\n",
       "4         5  marinades meat preparation"
      ]
     },
     "execution_count": 7,
     "metadata": {},
     "output_type": "execute_result"
    }
   ],
   "source": [
    "#Retrieving the list of aisles\n",
    "aisles = pd.read_csv('data/aisles.csv')\n",
    "print(aisles.shape)\n",
    "aisles.head()"
   ]
  },
  {
   "cell_type": "code",
   "execution_count": 8,
   "metadata": {
    "scrolled": true
   },
   "outputs": [
    {
     "data": {
      "text/html": [
       "<div>\n",
       "<style scoped>\n",
       "    .dataframe tbody tr th:only-of-type {\n",
       "        vertical-align: middle;\n",
       "    }\n",
       "\n",
       "    .dataframe tbody tr th {\n",
       "        vertical-align: top;\n",
       "    }\n",
       "\n",
       "    .dataframe thead th {\n",
       "        text-align: right;\n",
       "    }\n",
       "</style>\n",
       "<table border=\"1\" class=\"dataframe\">\n",
       "  <thead>\n",
       "    <tr style=\"text-align: right;\">\n",
       "      <th></th>\n",
       "      <th>index</th>\n",
       "      <th>order_id</th>\n",
       "      <th>product_id</th>\n",
       "      <th>add_to_cart_order</th>\n",
       "      <th>reordered</th>\n",
       "      <th>product_name</th>\n",
       "      <th>aisle_id</th>\n",
       "      <th>department_id</th>\n",
       "      <th>user_id</th>\n",
       "      <th>eval_set</th>\n",
       "      <th>order_number</th>\n",
       "      <th>order_dow</th>\n",
       "      <th>order_hour_of_day</th>\n",
       "      <th>days_since_prior_order</th>\n",
       "      <th>aisle</th>\n",
       "    </tr>\n",
       "  </thead>\n",
       "  <tbody>\n",
       "    <tr>\n",
       "      <th>0</th>\n",
       "      <td>0</td>\n",
       "      <td>2</td>\n",
       "      <td>33120</td>\n",
       "      <td>1</td>\n",
       "      <td>1</td>\n",
       "      <td>Organic Egg Whites</td>\n",
       "      <td>86</td>\n",
       "      <td>16</td>\n",
       "      <td>202279</td>\n",
       "      <td>prior</td>\n",
       "      <td>3</td>\n",
       "      <td>5</td>\n",
       "      <td>9</td>\n",
       "      <td>8.0</td>\n",
       "      <td>eggs</td>\n",
       "    </tr>\n",
       "    <tr>\n",
       "      <th>1</th>\n",
       "      <td>237</td>\n",
       "      <td>26</td>\n",
       "      <td>33120</td>\n",
       "      <td>5</td>\n",
       "      <td>0</td>\n",
       "      <td>Organic Egg Whites</td>\n",
       "      <td>86</td>\n",
       "      <td>16</td>\n",
       "      <td>153404</td>\n",
       "      <td>prior</td>\n",
       "      <td>2</td>\n",
       "      <td>0</td>\n",
       "      <td>16</td>\n",
       "      <td>7.0</td>\n",
       "      <td>eggs</td>\n",
       "    </tr>\n",
       "    <tr>\n",
       "      <th>2</th>\n",
       "      <td>1084</td>\n",
       "      <td>120</td>\n",
       "      <td>33120</td>\n",
       "      <td>13</td>\n",
       "      <td>0</td>\n",
       "      <td>Organic Egg Whites</td>\n",
       "      <td>86</td>\n",
       "      <td>16</td>\n",
       "      <td>23750</td>\n",
       "      <td>prior</td>\n",
       "      <td>11</td>\n",
       "      <td>6</td>\n",
       "      <td>8</td>\n",
       "      <td>10.0</td>\n",
       "      <td>eggs</td>\n",
       "    </tr>\n",
       "    <tr>\n",
       "      <th>3</th>\n",
       "      <td>3039</td>\n",
       "      <td>327</td>\n",
       "      <td>33120</td>\n",
       "      <td>5</td>\n",
       "      <td>1</td>\n",
       "      <td>Organic Egg Whites</td>\n",
       "      <td>86</td>\n",
       "      <td>16</td>\n",
       "      <td>58707</td>\n",
       "      <td>prior</td>\n",
       "      <td>21</td>\n",
       "      <td>6</td>\n",
       "      <td>9</td>\n",
       "      <td>8.0</td>\n",
       "      <td>eggs</td>\n",
       "    </tr>\n",
       "    <tr>\n",
       "      <th>4</th>\n",
       "      <td>3709</td>\n",
       "      <td>390</td>\n",
       "      <td>33120</td>\n",
       "      <td>28</td>\n",
       "      <td>1</td>\n",
       "      <td>Organic Egg Whites</td>\n",
       "      <td>86</td>\n",
       "      <td>16</td>\n",
       "      <td>166654</td>\n",
       "      <td>prior</td>\n",
       "      <td>48</td>\n",
       "      <td>0</td>\n",
       "      <td>12</td>\n",
       "      <td>9.0</td>\n",
       "      <td>eggs</td>\n",
       "    </tr>\n",
       "    <tr>\n",
       "      <th>5</th>\n",
       "      <td>5055</td>\n",
       "      <td>537</td>\n",
       "      <td>33120</td>\n",
       "      <td>2</td>\n",
       "      <td>1</td>\n",
       "      <td>Organic Egg Whites</td>\n",
       "      <td>86</td>\n",
       "      <td>16</td>\n",
       "      <td>180135</td>\n",
       "      <td>prior</td>\n",
       "      <td>15</td>\n",
       "      <td>2</td>\n",
       "      <td>8</td>\n",
       "      <td>3.0</td>\n",
       "      <td>eggs</td>\n",
       "    </tr>\n",
       "    <tr>\n",
       "      <th>6</th>\n",
       "      <td>5544</td>\n",
       "      <td>582</td>\n",
       "      <td>33120</td>\n",
       "      <td>7</td>\n",
       "      <td>1</td>\n",
       "      <td>Organic Egg Whites</td>\n",
       "      <td>86</td>\n",
       "      <td>16</td>\n",
       "      <td>193223</td>\n",
       "      <td>prior</td>\n",
       "      <td>6</td>\n",
       "      <td>2</td>\n",
       "      <td>19</td>\n",
       "      <td>10.0</td>\n",
       "      <td>eggs</td>\n",
       "    </tr>\n",
       "    <tr>\n",
       "      <th>7</th>\n",
       "      <td>5838</td>\n",
       "      <td>608</td>\n",
       "      <td>33120</td>\n",
       "      <td>5</td>\n",
       "      <td>1</td>\n",
       "      <td>Organic Egg Whites</td>\n",
       "      <td>86</td>\n",
       "      <td>16</td>\n",
       "      <td>91030</td>\n",
       "      <td>prior</td>\n",
       "      <td>11</td>\n",
       "      <td>3</td>\n",
       "      <td>21</td>\n",
       "      <td>12.0</td>\n",
       "      <td>eggs</td>\n",
       "    </tr>\n",
       "    <tr>\n",
       "      <th>8</th>\n",
       "      <td>5986</td>\n",
       "      <td>623</td>\n",
       "      <td>33120</td>\n",
       "      <td>1</td>\n",
       "      <td>1</td>\n",
       "      <td>Organic Egg Whites</td>\n",
       "      <td>86</td>\n",
       "      <td>16</td>\n",
       "      <td>37804</td>\n",
       "      <td>prior</td>\n",
       "      <td>63</td>\n",
       "      <td>3</td>\n",
       "      <td>12</td>\n",
       "      <td>3.0</td>\n",
       "      <td>eggs</td>\n",
       "    </tr>\n",
       "    <tr>\n",
       "      <th>9</th>\n",
       "      <td>6635</td>\n",
       "      <td>689</td>\n",
       "      <td>33120</td>\n",
       "      <td>4</td>\n",
       "      <td>1</td>\n",
       "      <td>Organic Egg Whites</td>\n",
       "      <td>86</td>\n",
       "      <td>16</td>\n",
       "      <td>108932</td>\n",
       "      <td>prior</td>\n",
       "      <td>16</td>\n",
       "      <td>1</td>\n",
       "      <td>13</td>\n",
       "      <td>3.0</td>\n",
       "      <td>eggs</td>\n",
       "    </tr>\n",
       "  </tbody>\n",
       "</table>\n",
       "</div>"
      ],
      "text/plain": [
       "   index  order_id  product_id  add_to_cart_order  reordered  \\\n",
       "0      0         2       33120                  1          1   \n",
       "1    237        26       33120                  5          0   \n",
       "2   1084       120       33120                 13          0   \n",
       "3   3039       327       33120                  5          1   \n",
       "4   3709       390       33120                 28          1   \n",
       "5   5055       537       33120                  2          1   \n",
       "6   5544       582       33120                  7          1   \n",
       "7   5838       608       33120                  5          1   \n",
       "8   5986       623       33120                  1          1   \n",
       "9   6635       689       33120                  4          1   \n",
       "\n",
       "         product_name  aisle_id  department_id  user_id eval_set  \\\n",
       "0  Organic Egg Whites        86             16   202279    prior   \n",
       "1  Organic Egg Whites        86             16   153404    prior   \n",
       "2  Organic Egg Whites        86             16    23750    prior   \n",
       "3  Organic Egg Whites        86             16    58707    prior   \n",
       "4  Organic Egg Whites        86             16   166654    prior   \n",
       "5  Organic Egg Whites        86             16   180135    prior   \n",
       "6  Organic Egg Whites        86             16   193223    prior   \n",
       "7  Organic Egg Whites        86             16    91030    prior   \n",
       "8  Organic Egg Whites        86             16    37804    prior   \n",
       "9  Organic Egg Whites        86             16   108932    prior   \n",
       "\n",
       "   order_number  order_dow  order_hour_of_day  days_since_prior_order aisle  \n",
       "0             3          5                  9                     8.0  eggs  \n",
       "1             2          0                 16                     7.0  eggs  \n",
       "2            11          6                  8                    10.0  eggs  \n",
       "3            21          6                  9                     8.0  eggs  \n",
       "4            48          0                 12                     9.0  eggs  \n",
       "5            15          2                  8                     3.0  eggs  \n",
       "6             6          2                 19                    10.0  eggs  \n",
       "7            11          3                 21                    12.0  eggs  \n",
       "8            63          3                 12                     3.0  eggs  \n",
       "9            16          1                 13                     3.0  eggs  "
      ]
     },
     "execution_count": 8,
     "metadata": {},
     "output_type": "execute_result"
    }
   ],
   "source": [
    "#Merging orders, products ordered before, products and aisles\n",
    "pdtlist = pd.merge(pdtsOrdered,products, on = ['product_id','product_id'])\n",
    "orderslist = pd.merge(pdtlist,orders,on=['order_id','order_id'])\n",
    "orderslist = pd.merge(orderslist,aisles,on=['aisle_id','aisle_id'])\n",
    "orderslist.head(10)"
   ]
  },
  {
   "cell_type": "code",
   "execution_count": 9,
   "metadata": {},
   "outputs": [
    {
     "data": {
      "text/plain": [
       "(33819106, 15)"
      ]
     },
     "execution_count": 9,
     "metadata": {},
     "output_type": "execute_result"
    }
   ],
   "source": [
    "orderslist.shape"
   ]
  },
  {
   "cell_type": "markdown",
   "metadata": {},
   "source": [
    "## Data Preprocessing\n",
    "\n",
    "<ol>\n",
    "<li>Checking for the missing and null values</li>\n",
    "<li>Removing irrelevant and unimportant features</li>\n",
    "</ol>"
   ]
  },
  {
   "cell_type": "code",
   "execution_count": 10,
   "metadata": {
    "scrolled": true
   },
   "outputs": [
    {
     "data": {
      "text/plain": [
       "fresh fruits                     3792661\n",
       "fresh vegetables                 3568630\n",
       "packaged vegetables fruits       1843806\n",
       "yogurt                           1507583\n",
       "packaged cheese                  1021462\n",
       "milk                              923659\n",
       "water seltzer sparkling water     878150\n",
       "chips pretzels                    753739\n",
       "soy lactosefree                   664493\n",
       "bread                             608469\n",
       "Name: aisle, dtype: int64"
      ]
     },
     "execution_count": 10,
     "metadata": {},
     "output_type": "execute_result"
    }
   ],
   "source": [
    "\"\"\"\n",
    "The top 4 aisle values has much higher values from other aisles.\n",
    "Since all the four are almost visited by every customer.\n",
    "\"\"\"\n",
    "orderslist['aisle'].value_counts()[0:10]"
   ]
  },
  {
   "cell_type": "code",
   "execution_count": 11,
   "metadata": {},
   "outputs": [],
   "source": [
    "\"\"\"\n",
    "PREPROCESSING\n",
    "\"fresh fruits\",\"fresh vegetables\",\"packaged vegetables fruits\",\"yogurt\"\n",
    "The above mentioned aisles are almost in every order.\n",
    "So, avoiding these aisles and the remaining aisles are focused for targeted marketing.\n",
    "\"\"\"\n",
    "orderslist.query('aisle != [\"fresh fruits\",\"fresh vegetables\",\"packaged vegetables fruits\",\"yogurt\"]',inplace=True)"
   ]
  },
  {
   "cell_type": "code",
   "execution_count": 12,
   "metadata": {},
   "outputs": [
    {
     "data": {
      "text/plain": [
       "130"
      ]
     },
     "execution_count": 12,
     "metadata": {},
     "output_type": "execute_result"
    }
   ],
   "source": [
    "len(orderslist['aisle'].unique())"
   ]
  },
  {
   "cell_type": "code",
   "execution_count": 13,
   "metadata": {
    "scrolled": true
   },
   "outputs": [
    {
     "data": {
      "text/plain": [
       "packaged cheese                  1021462\n",
       "milk                              923659\n",
       "water seltzer sparkling water     878150\n",
       "chips pretzels                    753739\n",
       "soy lactosefree                   664493\n",
       "bread                             608469\n",
       "refrigerated                      599109\n",
       "frozen produce                    545107\n",
       "ice cream ice                     521101\n",
       "crackers                          478430\n",
       "Name: aisle, dtype: int64"
      ]
     },
     "execution_count": 13,
     "metadata": {},
     "output_type": "execute_result"
    }
   ],
   "source": [
    "#After removing the columns which has much higher values from other aisles\n",
    "orderslist['aisle'].value_counts()[0:10]"
   ]
  },
  {
   "cell_type": "markdown",
   "metadata": {},
   "source": [
    "### Dataframe formed to input to clustering model\n",
    "\n",
    "<b>Dataframe size: </b> (206034, 130) approximately 20M cells\n",
    "    \n",
    "Each column represents the aisle. And, each row represents the user and the corresponding purchases in all the aisles."
   ]
  },
  {
   "cell_type": "code",
   "execution_count": 14,
   "metadata": {},
   "outputs": [
    {
     "data": {
      "text/html": [
       "<div>\n",
       "<style scoped>\n",
       "    .dataframe tbody tr th:only-of-type {\n",
       "        vertical-align: middle;\n",
       "    }\n",
       "\n",
       "    .dataframe tbody tr th {\n",
       "        vertical-align: top;\n",
       "    }\n",
       "\n",
       "    .dataframe thead th {\n",
       "        text-align: right;\n",
       "    }\n",
       "</style>\n",
       "<table border=\"1\" class=\"dataframe\">\n",
       "  <thead>\n",
       "    <tr style=\"text-align: right;\">\n",
       "      <th>aisle</th>\n",
       "      <th>air fresheners candles</th>\n",
       "      <th>asian foods</th>\n",
       "      <th>baby accessories</th>\n",
       "      <th>baby bath body care</th>\n",
       "      <th>baby food formula</th>\n",
       "      <th>bakery desserts</th>\n",
       "      <th>baking ingredients</th>\n",
       "      <th>baking supplies decor</th>\n",
       "      <th>beauty</th>\n",
       "      <th>beers coolers</th>\n",
       "      <th>...</th>\n",
       "      <th>spirits</th>\n",
       "      <th>spreads</th>\n",
       "      <th>tea</th>\n",
       "      <th>tofu meat alternatives</th>\n",
       "      <th>tortillas flat bread</th>\n",
       "      <th>trail mix snack mix</th>\n",
       "      <th>trash bags liners</th>\n",
       "      <th>vitamins supplements</th>\n",
       "      <th>water seltzer sparkling water</th>\n",
       "      <th>white wines</th>\n",
       "    </tr>\n",
       "    <tr>\n",
       "      <th>user_id</th>\n",
       "      <th></th>\n",
       "      <th></th>\n",
       "      <th></th>\n",
       "      <th></th>\n",
       "      <th></th>\n",
       "      <th></th>\n",
       "      <th></th>\n",
       "      <th></th>\n",
       "      <th></th>\n",
       "      <th></th>\n",
       "      <th></th>\n",
       "      <th></th>\n",
       "      <th></th>\n",
       "      <th></th>\n",
       "      <th></th>\n",
       "      <th></th>\n",
       "      <th></th>\n",
       "      <th></th>\n",
       "      <th></th>\n",
       "      <th></th>\n",
       "      <th></th>\n",
       "    </tr>\n",
       "  </thead>\n",
       "  <tbody>\n",
       "    <tr>\n",
       "      <th>1</th>\n",
       "      <td>0</td>\n",
       "      <td>0</td>\n",
       "      <td>0</td>\n",
       "      <td>0</td>\n",
       "      <td>0</td>\n",
       "      <td>0</td>\n",
       "      <td>0</td>\n",
       "      <td>0</td>\n",
       "      <td>0</td>\n",
       "      <td>0</td>\n",
       "      <td>...</td>\n",
       "      <td>0</td>\n",
       "      <td>1</td>\n",
       "      <td>0</td>\n",
       "      <td>0</td>\n",
       "      <td>0</td>\n",
       "      <td>0</td>\n",
       "      <td>0</td>\n",
       "      <td>0</td>\n",
       "      <td>0</td>\n",
       "      <td>0</td>\n",
       "    </tr>\n",
       "    <tr>\n",
       "      <th>2</th>\n",
       "      <td>0</td>\n",
       "      <td>3</td>\n",
       "      <td>0</td>\n",
       "      <td>0</td>\n",
       "      <td>0</td>\n",
       "      <td>0</td>\n",
       "      <td>2</td>\n",
       "      <td>0</td>\n",
       "      <td>0</td>\n",
       "      <td>0</td>\n",
       "      <td>...</td>\n",
       "      <td>0</td>\n",
       "      <td>3</td>\n",
       "      <td>1</td>\n",
       "      <td>1</td>\n",
       "      <td>0</td>\n",
       "      <td>0</td>\n",
       "      <td>0</td>\n",
       "      <td>0</td>\n",
       "      <td>2</td>\n",
       "      <td>0</td>\n",
       "    </tr>\n",
       "    <tr>\n",
       "      <th>3</th>\n",
       "      <td>0</td>\n",
       "      <td>0</td>\n",
       "      <td>0</td>\n",
       "      <td>0</td>\n",
       "      <td>0</td>\n",
       "      <td>0</td>\n",
       "      <td>0</td>\n",
       "      <td>0</td>\n",
       "      <td>0</td>\n",
       "      <td>0</td>\n",
       "      <td>...</td>\n",
       "      <td>0</td>\n",
       "      <td>4</td>\n",
       "      <td>1</td>\n",
       "      <td>0</td>\n",
       "      <td>0</td>\n",
       "      <td>0</td>\n",
       "      <td>0</td>\n",
       "      <td>0</td>\n",
       "      <td>2</td>\n",
       "      <td>0</td>\n",
       "    </tr>\n",
       "    <tr>\n",
       "      <th>4</th>\n",
       "      <td>0</td>\n",
       "      <td>0</td>\n",
       "      <td>0</td>\n",
       "      <td>0</td>\n",
       "      <td>0</td>\n",
       "      <td>0</td>\n",
       "      <td>0</td>\n",
       "      <td>0</td>\n",
       "      <td>0</td>\n",
       "      <td>0</td>\n",
       "      <td>...</td>\n",
       "      <td>0</td>\n",
       "      <td>0</td>\n",
       "      <td>0</td>\n",
       "      <td>0</td>\n",
       "      <td>1</td>\n",
       "      <td>0</td>\n",
       "      <td>0</td>\n",
       "      <td>0</td>\n",
       "      <td>1</td>\n",
       "      <td>0</td>\n",
       "    </tr>\n",
       "    <tr>\n",
       "      <th>5</th>\n",
       "      <td>1</td>\n",
       "      <td>4</td>\n",
       "      <td>0</td>\n",
       "      <td>0</td>\n",
       "      <td>0</td>\n",
       "      <td>0</td>\n",
       "      <td>0</td>\n",
       "      <td>0</td>\n",
       "      <td>0</td>\n",
       "      <td>0</td>\n",
       "      <td>...</td>\n",
       "      <td>0</td>\n",
       "      <td>0</td>\n",
       "      <td>0</td>\n",
       "      <td>0</td>\n",
       "      <td>0</td>\n",
       "      <td>0</td>\n",
       "      <td>0</td>\n",
       "      <td>0</td>\n",
       "      <td>0</td>\n",
       "      <td>0</td>\n",
       "    </tr>\n",
       "    <tr>\n",
       "      <th>6</th>\n",
       "      <td>0</td>\n",
       "      <td>0</td>\n",
       "      <td>0</td>\n",
       "      <td>0</td>\n",
       "      <td>0</td>\n",
       "      <td>0</td>\n",
       "      <td>0</td>\n",
       "      <td>0</td>\n",
       "      <td>0</td>\n",
       "      <td>0</td>\n",
       "      <td>...</td>\n",
       "      <td>0</td>\n",
       "      <td>0</td>\n",
       "      <td>0</td>\n",
       "      <td>0</td>\n",
       "      <td>0</td>\n",
       "      <td>0</td>\n",
       "      <td>0</td>\n",
       "      <td>0</td>\n",
       "      <td>0</td>\n",
       "      <td>0</td>\n",
       "    </tr>\n",
       "    <tr>\n",
       "      <th>7</th>\n",
       "      <td>0</td>\n",
       "      <td>0</td>\n",
       "      <td>0</td>\n",
       "      <td>0</td>\n",
       "      <td>0</td>\n",
       "      <td>0</td>\n",
       "      <td>3</td>\n",
       "      <td>0</td>\n",
       "      <td>0</td>\n",
       "      <td>0</td>\n",
       "      <td>...</td>\n",
       "      <td>0</td>\n",
       "      <td>0</td>\n",
       "      <td>0</td>\n",
       "      <td>0</td>\n",
       "      <td>0</td>\n",
       "      <td>0</td>\n",
       "      <td>0</td>\n",
       "      <td>0</td>\n",
       "      <td>0</td>\n",
       "      <td>0</td>\n",
       "    </tr>\n",
       "    <tr>\n",
       "      <th>8</th>\n",
       "      <td>0</td>\n",
       "      <td>1</td>\n",
       "      <td>0</td>\n",
       "      <td>0</td>\n",
       "      <td>0</td>\n",
       "      <td>0</td>\n",
       "      <td>1</td>\n",
       "      <td>0</td>\n",
       "      <td>0</td>\n",
       "      <td>0</td>\n",
       "      <td>...</td>\n",
       "      <td>0</td>\n",
       "      <td>0</td>\n",
       "      <td>0</td>\n",
       "      <td>1</td>\n",
       "      <td>1</td>\n",
       "      <td>0</td>\n",
       "      <td>0</td>\n",
       "      <td>0</td>\n",
       "      <td>0</td>\n",
       "      <td>0</td>\n",
       "    </tr>\n",
       "    <tr>\n",
       "      <th>9</th>\n",
       "      <td>0</td>\n",
       "      <td>0</td>\n",
       "      <td>0</td>\n",
       "      <td>0</td>\n",
       "      <td>6</td>\n",
       "      <td>0</td>\n",
       "      <td>2</td>\n",
       "      <td>0</td>\n",
       "      <td>0</td>\n",
       "      <td>0</td>\n",
       "      <td>...</td>\n",
       "      <td>0</td>\n",
       "      <td>0</td>\n",
       "      <td>0</td>\n",
       "      <td>0</td>\n",
       "      <td>0</td>\n",
       "      <td>0</td>\n",
       "      <td>0</td>\n",
       "      <td>0</td>\n",
       "      <td>3</td>\n",
       "      <td>0</td>\n",
       "    </tr>\n",
       "    <tr>\n",
       "      <th>10</th>\n",
       "      <td>0</td>\n",
       "      <td>1</td>\n",
       "      <td>0</td>\n",
       "      <td>0</td>\n",
       "      <td>0</td>\n",
       "      <td>0</td>\n",
       "      <td>0</td>\n",
       "      <td>0</td>\n",
       "      <td>0</td>\n",
       "      <td>0</td>\n",
       "      <td>...</td>\n",
       "      <td>0</td>\n",
       "      <td>0</td>\n",
       "      <td>0</td>\n",
       "      <td>0</td>\n",
       "      <td>0</td>\n",
       "      <td>0</td>\n",
       "      <td>0</td>\n",
       "      <td>0</td>\n",
       "      <td>0</td>\n",
       "      <td>0</td>\n",
       "    </tr>\n",
       "  </tbody>\n",
       "</table>\n",
       "<p>10 rows × 130 columns</p>\n",
       "</div>"
      ],
      "text/plain": [
       "aisle    air fresheners candles  asian foods  baby accessories  \\\n",
       "user_id                                                          \n",
       "1                             0            0                 0   \n",
       "2                             0            3                 0   \n",
       "3                             0            0                 0   \n",
       "4                             0            0                 0   \n",
       "5                             1            4                 0   \n",
       "6                             0            0                 0   \n",
       "7                             0            0                 0   \n",
       "8                             0            1                 0   \n",
       "9                             0            0                 0   \n",
       "10                            0            1                 0   \n",
       "\n",
       "aisle    baby bath body care  baby food formula  bakery desserts  \\\n",
       "user_id                                                            \n",
       "1                          0                  0                0   \n",
       "2                          0                  0                0   \n",
       "3                          0                  0                0   \n",
       "4                          0                  0                0   \n",
       "5                          0                  0                0   \n",
       "6                          0                  0                0   \n",
       "7                          0                  0                0   \n",
       "8                          0                  0                0   \n",
       "9                          0                  6                0   \n",
       "10                         0                  0                0   \n",
       "\n",
       "aisle    baking ingredients  baking supplies decor  beauty  beers coolers  \\\n",
       "user_id                                                                     \n",
       "1                         0                      0       0              0   \n",
       "2                         2                      0       0              0   \n",
       "3                         0                      0       0              0   \n",
       "4                         0                      0       0              0   \n",
       "5                         0                      0       0              0   \n",
       "6                         0                      0       0              0   \n",
       "7                         3                      0       0              0   \n",
       "8                         1                      0       0              0   \n",
       "9                         2                      0       0              0   \n",
       "10                        0                      0       0              0   \n",
       "\n",
       "aisle    ...  spirits  spreads  tea  tofu meat alternatives  \\\n",
       "user_id  ...                                                  \n",
       "1        ...        0        1    0                       0   \n",
       "2        ...        0        3    1                       1   \n",
       "3        ...        0        4    1                       0   \n",
       "4        ...        0        0    0                       0   \n",
       "5        ...        0        0    0                       0   \n",
       "6        ...        0        0    0                       0   \n",
       "7        ...        0        0    0                       0   \n",
       "8        ...        0        0    0                       1   \n",
       "9        ...        0        0    0                       0   \n",
       "10       ...        0        0    0                       0   \n",
       "\n",
       "aisle    tortillas flat bread  trail mix snack mix  trash bags liners  \\\n",
       "user_id                                                                 \n",
       "1                           0                    0                  0   \n",
       "2                           0                    0                  0   \n",
       "3                           0                    0                  0   \n",
       "4                           1                    0                  0   \n",
       "5                           0                    0                  0   \n",
       "6                           0                    0                  0   \n",
       "7                           0                    0                  0   \n",
       "8                           1                    0                  0   \n",
       "9                           0                    0                  0   \n",
       "10                          0                    0                  0   \n",
       "\n",
       "aisle    vitamins supplements  water seltzer sparkling water  white wines  \n",
       "user_id                                                                    \n",
       "1                           0                              0            0  \n",
       "2                           0                              2            0  \n",
       "3                           0                              2            0  \n",
       "4                           0                              1            0  \n",
       "5                           0                              0            0  \n",
       "6                           0                              0            0  \n",
       "7                           0                              0            0  \n",
       "8                           0                              0            0  \n",
       "9                           0                              3            0  \n",
       "10                          0                              0            0  \n",
       "\n",
       "[10 rows x 130 columns]"
      ]
     },
     "execution_count": 14,
     "metadata": {},
     "output_type": "execute_result"
    }
   ],
   "source": [
    "\"\"\"\n",
    "Products count - 49688\n",
    "Aisle count - 130 (After preprocessing)\n",
    "Aisles are a list of categories which groups the similar products together\n",
    "So,  the customers are clustered based on the aisle information.\n",
    "\"\"\"\n",
    "user_purchase = pd.crosstab(orderslist['user_id'],orderslist['aisle'])\n",
    "user_purchase.head(10)"
   ]
  },
  {
   "cell_type": "code",
   "execution_count": 15,
   "metadata": {},
   "outputs": [
    {
     "data": {
      "text/plain": [
       "(206034, 130)"
      ]
     },
     "execution_count": 15,
     "metadata": {},
     "output_type": "execute_result"
    }
   ],
   "source": [
    "\"\"\"\n",
    "Database shape : (206034,130) (> 20M cells)\n",
    "\"\"\"\n",
    "user_purchase.shape"
   ]
  },
  {
   "cell_type": "code",
   "execution_count": 16,
   "metadata": {},
   "outputs": [
    {
     "name": "stdout",
     "output_type": "stream",
     "text": [
      "Index([], dtype='object', name='aisle')\n",
      "Index([], dtype='object', name='aisle')\n"
     ]
    }
   ],
   "source": [
    "\"\"\"\n",
    "PRE-PROCESSING\n",
    "checking for missing and null values\n",
    "\"\"\"\n",
    "print(user_purchase.columns[user_purchase.isnull().any()])\n",
    "print(user_purchase.columns[user_purchase.isna().any()])"
   ]
  },
  {
   "cell_type": "code",
   "execution_count": 17,
   "metadata": {
    "scrolled": true
   },
   "outputs": [
    {
     "data": {
      "text/html": [
       "<div>\n",
       "<style scoped>\n",
       "    .dataframe tbody tr th:only-of-type {\n",
       "        vertical-align: middle;\n",
       "    }\n",
       "\n",
       "    .dataframe tbody tr th {\n",
       "        vertical-align: top;\n",
       "    }\n",
       "\n",
       "    .dataframe thead th {\n",
       "        text-align: right;\n",
       "    }\n",
       "</style>\n",
       "<table border=\"1\" class=\"dataframe\">\n",
       "  <thead>\n",
       "    <tr style=\"text-align: right;\">\n",
       "      <th></th>\n",
       "      <th>air_fresheners_candles</th>\n",
       "      <th>asian_foods</th>\n",
       "      <th>baby_accessories</th>\n",
       "      <th>baby_bath_body_care</th>\n",
       "      <th>baby_food_formula</th>\n",
       "      <th>bakery_desserts</th>\n",
       "      <th>baking_ingredients</th>\n",
       "      <th>baking_supplies_decor</th>\n",
       "      <th>beauty</th>\n",
       "      <th>beers_coolers</th>\n",
       "      <th>...</th>\n",
       "      <th>spirits</th>\n",
       "      <th>spreads</th>\n",
       "      <th>tea</th>\n",
       "      <th>tofu_meat_alternatives</th>\n",
       "      <th>tortillas_flat_bread</th>\n",
       "      <th>trail_mix_snack_mix</th>\n",
       "      <th>trash_bags_liners</th>\n",
       "      <th>vitamins_supplements</th>\n",
       "      <th>water_seltzer_sparkling_water</th>\n",
       "      <th>white_wines</th>\n",
       "    </tr>\n",
       "    <tr>\n",
       "      <th>user_id</th>\n",
       "      <th></th>\n",
       "      <th></th>\n",
       "      <th></th>\n",
       "      <th></th>\n",
       "      <th></th>\n",
       "      <th></th>\n",
       "      <th></th>\n",
       "      <th></th>\n",
       "      <th></th>\n",
       "      <th></th>\n",
       "      <th></th>\n",
       "      <th></th>\n",
       "      <th></th>\n",
       "      <th></th>\n",
       "      <th></th>\n",
       "      <th></th>\n",
       "      <th></th>\n",
       "      <th></th>\n",
       "      <th></th>\n",
       "      <th></th>\n",
       "      <th></th>\n",
       "    </tr>\n",
       "  </thead>\n",
       "  <tbody>\n",
       "    <tr>\n",
       "      <th>1</th>\n",
       "      <td>0</td>\n",
       "      <td>0</td>\n",
       "      <td>0</td>\n",
       "      <td>0</td>\n",
       "      <td>0</td>\n",
       "      <td>0</td>\n",
       "      <td>0</td>\n",
       "      <td>0</td>\n",
       "      <td>0</td>\n",
       "      <td>0</td>\n",
       "      <td>...</td>\n",
       "      <td>0</td>\n",
       "      <td>1</td>\n",
       "      <td>0</td>\n",
       "      <td>0</td>\n",
       "      <td>0</td>\n",
       "      <td>0</td>\n",
       "      <td>0</td>\n",
       "      <td>0</td>\n",
       "      <td>0</td>\n",
       "      <td>0</td>\n",
       "    </tr>\n",
       "    <tr>\n",
       "      <th>2</th>\n",
       "      <td>0</td>\n",
       "      <td>3</td>\n",
       "      <td>0</td>\n",
       "      <td>0</td>\n",
       "      <td>0</td>\n",
       "      <td>0</td>\n",
       "      <td>2</td>\n",
       "      <td>0</td>\n",
       "      <td>0</td>\n",
       "      <td>0</td>\n",
       "      <td>...</td>\n",
       "      <td>0</td>\n",
       "      <td>3</td>\n",
       "      <td>1</td>\n",
       "      <td>1</td>\n",
       "      <td>0</td>\n",
       "      <td>0</td>\n",
       "      <td>0</td>\n",
       "      <td>0</td>\n",
       "      <td>2</td>\n",
       "      <td>0</td>\n",
       "    </tr>\n",
       "    <tr>\n",
       "      <th>3</th>\n",
       "      <td>0</td>\n",
       "      <td>0</td>\n",
       "      <td>0</td>\n",
       "      <td>0</td>\n",
       "      <td>0</td>\n",
       "      <td>0</td>\n",
       "      <td>0</td>\n",
       "      <td>0</td>\n",
       "      <td>0</td>\n",
       "      <td>0</td>\n",
       "      <td>...</td>\n",
       "      <td>0</td>\n",
       "      <td>4</td>\n",
       "      <td>1</td>\n",
       "      <td>0</td>\n",
       "      <td>0</td>\n",
       "      <td>0</td>\n",
       "      <td>0</td>\n",
       "      <td>0</td>\n",
       "      <td>2</td>\n",
       "      <td>0</td>\n",
       "    </tr>\n",
       "    <tr>\n",
       "      <th>4</th>\n",
       "      <td>0</td>\n",
       "      <td>0</td>\n",
       "      <td>0</td>\n",
       "      <td>0</td>\n",
       "      <td>0</td>\n",
       "      <td>0</td>\n",
       "      <td>0</td>\n",
       "      <td>0</td>\n",
       "      <td>0</td>\n",
       "      <td>0</td>\n",
       "      <td>...</td>\n",
       "      <td>0</td>\n",
       "      <td>0</td>\n",
       "      <td>0</td>\n",
       "      <td>0</td>\n",
       "      <td>1</td>\n",
       "      <td>0</td>\n",
       "      <td>0</td>\n",
       "      <td>0</td>\n",
       "      <td>1</td>\n",
       "      <td>0</td>\n",
       "    </tr>\n",
       "    <tr>\n",
       "      <th>5</th>\n",
       "      <td>1</td>\n",
       "      <td>4</td>\n",
       "      <td>0</td>\n",
       "      <td>0</td>\n",
       "      <td>0</td>\n",
       "      <td>0</td>\n",
       "      <td>0</td>\n",
       "      <td>0</td>\n",
       "      <td>0</td>\n",
       "      <td>0</td>\n",
       "      <td>...</td>\n",
       "      <td>0</td>\n",
       "      <td>0</td>\n",
       "      <td>0</td>\n",
       "      <td>0</td>\n",
       "      <td>0</td>\n",
       "      <td>0</td>\n",
       "      <td>0</td>\n",
       "      <td>0</td>\n",
       "      <td>0</td>\n",
       "      <td>0</td>\n",
       "    </tr>\n",
       "    <tr>\n",
       "      <th>6</th>\n",
       "      <td>0</td>\n",
       "      <td>0</td>\n",
       "      <td>0</td>\n",
       "      <td>0</td>\n",
       "      <td>0</td>\n",
       "      <td>0</td>\n",
       "      <td>0</td>\n",
       "      <td>0</td>\n",
       "      <td>0</td>\n",
       "      <td>0</td>\n",
       "      <td>...</td>\n",
       "      <td>0</td>\n",
       "      <td>0</td>\n",
       "      <td>0</td>\n",
       "      <td>0</td>\n",
       "      <td>0</td>\n",
       "      <td>0</td>\n",
       "      <td>0</td>\n",
       "      <td>0</td>\n",
       "      <td>0</td>\n",
       "      <td>0</td>\n",
       "    </tr>\n",
       "    <tr>\n",
       "      <th>7</th>\n",
       "      <td>0</td>\n",
       "      <td>0</td>\n",
       "      <td>0</td>\n",
       "      <td>0</td>\n",
       "      <td>0</td>\n",
       "      <td>0</td>\n",
       "      <td>3</td>\n",
       "      <td>0</td>\n",
       "      <td>0</td>\n",
       "      <td>0</td>\n",
       "      <td>...</td>\n",
       "      <td>0</td>\n",
       "      <td>0</td>\n",
       "      <td>0</td>\n",
       "      <td>0</td>\n",
       "      <td>0</td>\n",
       "      <td>0</td>\n",
       "      <td>0</td>\n",
       "      <td>0</td>\n",
       "      <td>0</td>\n",
       "      <td>0</td>\n",
       "    </tr>\n",
       "    <tr>\n",
       "      <th>8</th>\n",
       "      <td>0</td>\n",
       "      <td>1</td>\n",
       "      <td>0</td>\n",
       "      <td>0</td>\n",
       "      <td>0</td>\n",
       "      <td>0</td>\n",
       "      <td>1</td>\n",
       "      <td>0</td>\n",
       "      <td>0</td>\n",
       "      <td>0</td>\n",
       "      <td>...</td>\n",
       "      <td>0</td>\n",
       "      <td>0</td>\n",
       "      <td>0</td>\n",
       "      <td>1</td>\n",
       "      <td>1</td>\n",
       "      <td>0</td>\n",
       "      <td>0</td>\n",
       "      <td>0</td>\n",
       "      <td>0</td>\n",
       "      <td>0</td>\n",
       "    </tr>\n",
       "    <tr>\n",
       "      <th>9</th>\n",
       "      <td>0</td>\n",
       "      <td>0</td>\n",
       "      <td>0</td>\n",
       "      <td>0</td>\n",
       "      <td>6</td>\n",
       "      <td>0</td>\n",
       "      <td>2</td>\n",
       "      <td>0</td>\n",
       "      <td>0</td>\n",
       "      <td>0</td>\n",
       "      <td>...</td>\n",
       "      <td>0</td>\n",
       "      <td>0</td>\n",
       "      <td>0</td>\n",
       "      <td>0</td>\n",
       "      <td>0</td>\n",
       "      <td>0</td>\n",
       "      <td>0</td>\n",
       "      <td>0</td>\n",
       "      <td>3</td>\n",
       "      <td>0</td>\n",
       "    </tr>\n",
       "    <tr>\n",
       "      <th>10</th>\n",
       "      <td>0</td>\n",
       "      <td>1</td>\n",
       "      <td>0</td>\n",
       "      <td>0</td>\n",
       "      <td>0</td>\n",
       "      <td>0</td>\n",
       "      <td>0</td>\n",
       "      <td>0</td>\n",
       "      <td>0</td>\n",
       "      <td>0</td>\n",
       "      <td>...</td>\n",
       "      <td>0</td>\n",
       "      <td>0</td>\n",
       "      <td>0</td>\n",
       "      <td>0</td>\n",
       "      <td>0</td>\n",
       "      <td>0</td>\n",
       "      <td>0</td>\n",
       "      <td>0</td>\n",
       "      <td>0</td>\n",
       "      <td>0</td>\n",
       "    </tr>\n",
       "  </tbody>\n",
       "</table>\n",
       "<p>10 rows × 130 columns</p>\n",
       "</div>"
      ],
      "text/plain": [
       "         air_fresheners_candles  asian_foods  baby_accessories  \\\n",
       "user_id                                                          \n",
       "1                             0            0                 0   \n",
       "2                             0            3                 0   \n",
       "3                             0            0                 0   \n",
       "4                             0            0                 0   \n",
       "5                             1            4                 0   \n",
       "6                             0            0                 0   \n",
       "7                             0            0                 0   \n",
       "8                             0            1                 0   \n",
       "9                             0            0                 0   \n",
       "10                            0            1                 0   \n",
       "\n",
       "         baby_bath_body_care  baby_food_formula  bakery_desserts  \\\n",
       "user_id                                                            \n",
       "1                          0                  0                0   \n",
       "2                          0                  0                0   \n",
       "3                          0                  0                0   \n",
       "4                          0                  0                0   \n",
       "5                          0                  0                0   \n",
       "6                          0                  0                0   \n",
       "7                          0                  0                0   \n",
       "8                          0                  0                0   \n",
       "9                          0                  6                0   \n",
       "10                         0                  0                0   \n",
       "\n",
       "         baking_ingredients  baking_supplies_decor  beauty  beers_coolers  \\\n",
       "user_id                                                                     \n",
       "1                         0                      0       0              0   \n",
       "2                         2                      0       0              0   \n",
       "3                         0                      0       0              0   \n",
       "4                         0                      0       0              0   \n",
       "5                         0                      0       0              0   \n",
       "6                         0                      0       0              0   \n",
       "7                         3                      0       0              0   \n",
       "8                         1                      0       0              0   \n",
       "9                         2                      0       0              0   \n",
       "10                        0                      0       0              0   \n",
       "\n",
       "         ...  spirits  spreads  tea  tofu_meat_alternatives  \\\n",
       "user_id  ...                                                  \n",
       "1        ...        0        1    0                       0   \n",
       "2        ...        0        3    1                       1   \n",
       "3        ...        0        4    1                       0   \n",
       "4        ...        0        0    0                       0   \n",
       "5        ...        0        0    0                       0   \n",
       "6        ...        0        0    0                       0   \n",
       "7        ...        0        0    0                       0   \n",
       "8        ...        0        0    0                       1   \n",
       "9        ...        0        0    0                       0   \n",
       "10       ...        0        0    0                       0   \n",
       "\n",
       "         tortillas_flat_bread  trail_mix_snack_mix  trash_bags_liners  \\\n",
       "user_id                                                                 \n",
       "1                           0                    0                  0   \n",
       "2                           0                    0                  0   \n",
       "3                           0                    0                  0   \n",
       "4                           1                    0                  0   \n",
       "5                           0                    0                  0   \n",
       "6                           0                    0                  0   \n",
       "7                           0                    0                  0   \n",
       "8                           1                    0                  0   \n",
       "9                           0                    0                  0   \n",
       "10                          0                    0                  0   \n",
       "\n",
       "         vitamins_supplements  water_seltzer_sparkling_water  white_wines  \n",
       "user_id                                                                    \n",
       "1                           0                              0            0  \n",
       "2                           0                              2            0  \n",
       "3                           0                              2            0  \n",
       "4                           0                              1            0  \n",
       "5                           0                              0            0  \n",
       "6                           0                              0            0  \n",
       "7                           0                              0            0  \n",
       "8                           0                              0            0  \n",
       "9                           0                              3            0  \n",
       "10                          0                              0            0  \n",
       "\n",
       "[10 rows x 130 columns]"
      ]
     },
     "execution_count": 17,
     "metadata": {},
     "output_type": "execute_result"
    }
   ],
   "source": [
    "\"\"\"\n",
    "PRE-PROCESSING\n",
    "The spaces in column names are replaced by underscore to avoid errors in dataframe operations.\n",
    "\"\"\"\n",
    "user_purchase.columns = [column.replace(\" \",\"_\") for column in user_purchase.columns]\n",
    "user_purchase.head(10)"
   ]
  },
  {
   "cell_type": "code",
   "execution_count": 18,
   "metadata": {},
   "outputs": [
    {
     "name": "stdout",
     "output_type": "stream",
     "text": [
      "baby_accessories\n",
      "baby_bath_body_care\n",
      "baby_food_formula\n"
     ]
    }
   ],
   "source": [
    "# To fetch the list of aisle-names given a keyword\n",
    "for column in user_purchase.columns:\n",
    "    if(\"baby\" in column):\n",
    "        print(column)"
   ]
  },
  {
   "cell_type": "markdown",
   "metadata": {},
   "source": [
    "## Dimensionality Reduction"
   ]
  },
  {
   "cell_type": "code",
   "execution_count": 18,
   "metadata": {},
   "outputs": [
    {
     "name": "stdout",
     "output_type": "stream",
     "text": [
      "[[ 4.91480234e+00 -2.22244204e-01 -2.18692210e+00 -3.06409010e-01\n",
      "   2.52652402e+00  3.12239639e+00]\n",
      " [-7.05653710e+00  1.25851651e+00 -2.84518653e+00  1.13170064e+01\n",
      "   1.07329866e+01  1.43131486e+00]\n",
      " [ 4.59301625e+00 -7.73364522e-02 -7.41888660e-01  3.20056589e-02\n",
      "   4.02196771e+00 -4.19567590e+00]\n",
      " ...\n",
      " [-1.10340368e+01  1.94251989e+00 -6.92719230e-01 -4.69772457e+00\n",
      "  -6.57775973e+00  6.06407291e+00]\n",
      " [-5.73147916e+01 -1.03251860e+01 -1.97597405e+01  4.87622930e+00\n",
      "  -9.69596977e+00  3.71649054e+00]\n",
      " [-2.39643069e+00 -2.15270074e+00 -4.85867235e+00 -1.52111068e+00\n",
      "   1.09732704e+00  1.06721805e+00]]\n"
     ]
    }
   ],
   "source": [
    "\"\"\"\n",
    "DIMENSIONALITY REDUCTION - using SparsePCA\n",
    "\"\"\"\n",
    "pca_samples = SparsePCA(n_components=6).fit_transform(user_purchase)\n",
    "print(pca_samples)"
   ]
  },
  {
   "cell_type": "code",
   "execution_count": 31,
   "metadata": {},
   "outputs": [
    {
     "name": "stdout",
     "output_type": "stream",
     "text": [
      "6\n",
      "[0.22095233 0.07396947 0.05953613 0.04526231 0.035989   0.03536458]\n"
     ]
    }
   ],
   "source": [
    "\"\"\"\n",
    "DIMENSIONALITY REDUCTION - using PCA (not used)\n",
    "\"\"\"\n",
    "from sklearn.decomposition import PCA\n",
    "\n",
    "def dr_using_pca(components):\n",
    "    #pca = PCA(0.95)\n",
    "    pca = PCA(n_components=6)\n",
    "    pca.fit(cust_prod)\n",
    "    pca_samples = pca.transform(cust_prod)\n",
    "    print(pca.n_components_)\n",
    "    print(pca.explained_variance_ratio_)"
   ]
  },
  {
   "cell_type": "code",
   "execution_count": 19,
   "metadata": {
    "scrolled": true
   },
   "outputs": [
    {
     "name": "stdout",
     "output_type": "stream",
     "text": [
      "(206034, 6)\n"
     ]
    },
    {
     "data": {
      "text/html": [
       "<div>\n",
       "<style scoped>\n",
       "    .dataframe tbody tr th:only-of-type {\n",
       "        vertical-align: middle;\n",
       "    }\n",
       "\n",
       "    .dataframe tbody tr th {\n",
       "        vertical-align: top;\n",
       "    }\n",
       "\n",
       "    .dataframe thead th {\n",
       "        text-align: right;\n",
       "    }\n",
       "</style>\n",
       "<table border=\"1\" class=\"dataframe\">\n",
       "  <thead>\n",
       "    <tr style=\"text-align: right;\">\n",
       "      <th></th>\n",
       "      <th>0</th>\n",
       "      <th>1</th>\n",
       "      <th>2</th>\n",
       "      <th>3</th>\n",
       "      <th>4</th>\n",
       "      <th>5</th>\n",
       "    </tr>\n",
       "  </thead>\n",
       "  <tbody>\n",
       "    <tr>\n",
       "      <th>0</th>\n",
       "      <td>4.914802</td>\n",
       "      <td>-0.222244</td>\n",
       "      <td>-2.186922</td>\n",
       "      <td>-0.306409</td>\n",
       "      <td>2.526524</td>\n",
       "      <td>3.122396</td>\n",
       "    </tr>\n",
       "    <tr>\n",
       "      <th>1</th>\n",
       "      <td>-7.056537</td>\n",
       "      <td>1.258517</td>\n",
       "      <td>-2.845187</td>\n",
       "      <td>11.317006</td>\n",
       "      <td>10.732987</td>\n",
       "      <td>1.431315</td>\n",
       "    </tr>\n",
       "    <tr>\n",
       "      <th>2</th>\n",
       "      <td>4.593016</td>\n",
       "      <td>-0.077336</td>\n",
       "      <td>-0.741889</td>\n",
       "      <td>0.032006</td>\n",
       "      <td>4.021968</td>\n",
       "      <td>-4.195676</td>\n",
       "    </tr>\n",
       "    <tr>\n",
       "      <th>3</th>\n",
       "      <td>12.684742</td>\n",
       "      <td>0.031870</td>\n",
       "      <td>0.311738</td>\n",
       "      <td>0.695567</td>\n",
       "      <td>0.660967</td>\n",
       "      <td>0.658622</td>\n",
       "    </tr>\n",
       "    <tr>\n",
       "      <th>4</th>\n",
       "      <td>11.257591</td>\n",
       "      <td>-1.576486</td>\n",
       "      <td>-1.433090</td>\n",
       "      <td>-1.556261</td>\n",
       "      <td>-1.284189</td>\n",
       "      <td>1.786849</td>\n",
       "    </tr>\n",
       "  </tbody>\n",
       "</table>\n",
       "</div>"
      ],
      "text/plain": [
       "           0         1         2          3          4         5\n",
       "0   4.914802 -0.222244 -2.186922  -0.306409   2.526524  3.122396\n",
       "1  -7.056537  1.258517 -2.845187  11.317006  10.732987  1.431315\n",
       "2   4.593016 -0.077336 -0.741889   0.032006   4.021968 -4.195676\n",
       "3  12.684742  0.031870  0.311738   0.695567   0.660967  0.658622\n",
       "4  11.257591 -1.576486 -1.433090  -1.556261  -1.284189  1.786849"
      ]
     },
     "execution_count": 19,
     "metadata": {},
     "output_type": "execute_result"
    }
   ],
   "source": [
    "#converting pca result to dataframe\n",
    "dr_samples = pd.DataFrame(pca_samples)\n",
    "print(dr_samples.shape)\n",
    "dr_samples.head()"
   ]
  },
  {
   "cell_type": "markdown",
   "metadata": {},
   "source": [
    "## Choosing the number of PCA components for clustering using Silhouette Analysis"
   ]
  },
  {
   "cell_type": "code",
   "execution_count": 77,
   "metadata": {},
   "outputs": [
    {
     "name": "stdout",
     "output_type": "stream",
     "text": [
      "number of components: 2\n",
      "For no of clusters = 3,The average silhouette_score is : 0.620455\n",
      "For no of clusters = 4,The average silhouette_score is : 0.613140\n",
      "number of components: 3\n",
      "For no of clusters = 3,The average silhouette_score is : 0.710357\n",
      "For no of clusters = 4,The average silhouette_score is : 0.584358\n",
      "number of components: 4\n",
      "For no of clusters = 3,The average silhouette_score is : 0.686261\n",
      "For no of clusters = 4,The average silhouette_score is : 0.549130\n",
      "number of components: 5\n",
      "For no of clusters = 3,The average silhouette_score is : 0.672949\n",
      "For no of clusters = 4,The average silhouette_score is : 0.527855\n",
      "number of components: 6\n",
      "For no of clusters = 3,The average silhouette_score is : 0.660716\n",
      "For no of clusters = 4,The average silhouette_score is : 0.511076\n"
     ]
    }
   ],
   "source": [
    "\"\"\"\n",
    "choosing the number of components which has better silhouette score\n",
    "Finalized: three components\n",
    "\"\"\"\n",
    "three_clusters = []\n",
    "four_clusters = []\n",
    "for i in range(2,7):\n",
    "    print(\"number of components:\",i)\n",
    "    comp_list = []\n",
    "    for j in range(i):\n",
    "        comp_list.append(j)\n",
    "    tocluster = pd.DataFrame(dr_samples[comp_list])\n",
    "    \n",
    "    for k in range(3,5):\n",
    "        c_preds = KMeans(n_clusters=k).fit_predict(tocluster)\n",
    "        silhouette_avg = silhouette_score(tocluster, c_preds)\n",
    "        print(\"For no of clusters = %d,The average silhouette_score is : %f\"%(k,silhouette_avg))\n",
    "        if(k == 3):\n",
    "            three_clusters.append(silhouette_avg)\n",
    "        else:\n",
    "            four_clusters.append(silhouette_avg)"
   ]
  },
  {
   "cell_type": "code",
   "execution_count": 37,
   "metadata": {},
   "outputs": [
    {
     "data": {
      "image/png": "[encoded data removed]",
      "text/plain": [
       "<Figure size 864x576 with 1 Axes>"
      ]
     },
     "metadata": {
      "needs_background": "light"
     },
     "output_type": "display_data"
    }
   ],
   "source": [
    "\"\"\"\n",
    "Plotting number of components(Dimensions) against silhouette score\n",
    "\"\"\"\n",
    "x = np.asarray([2,3,4,5,6])\n",
    "w = 0.3\n",
    "\n",
    "plt.figure(figsize=(12,8))\n",
    "ax = plt.subplot(111)\n",
    "bar1 = ax.bar(x-w, three_clusters, width=w, color='b', align='center')\n",
    "bar2 = ax.bar(x, four_clusters, width=w, color='g', align='center')\n",
    "ax.set_ylabel('silhouette scores')\n",
    "ax.set_xlabel('number of PCA Components ')\n",
    "ax.legend((bar1[0],bar2[0]), ('3 clusters', '4 clusters'))\n",
    "ax.set_title(\"Choosing PCA components size\")\n",
    "plt.show()"
   ]
  },
  {
   "cell_type": "code",
   "execution_count": 78,
   "metadata": {},
   "outputs": [
    {
     "name": "stdout",
     "output_type": "stream",
     "text": [
      "For no of clusters = 3, The average silhouette_score is : 0.6221333946729004\n",
      "For no of clusters = 4, The average silhouette_score is : 0.6129120445979189\n"
     ]
    },
    {
     "name": "stderr",
     "output_type": "stream",
     "text": [
      "c:\\users\\aravind\\appdata\\local\\programs\\python\\python37\\lib\\site-packages\\IPython\\core\\pylabtools.py:128: UserWarning: Creating legend with loc=\"best\" can be slow with large amounts of data.\n",
      "  fig.canvas.print_figure(bytes_io, **kw)\n"
     ]
    },
    {
     "data": {
      "image/png": "[encoded data removed]",
      "text/plain": [
       "<Figure size 576x576 with 1 Axes>"
      ]
     },
     "metadata": {
      "needs_background": "light"
     },
     "output_type": "display_data"
    },
    {
     "name": "stdout",
     "output_type": "stream",
     "text": [
      "_______________________________________________________________\n",
      "For no of clusters = 3, The average silhouette_score is : 0.6257833720310999\n",
      "For no of clusters = 4, The average silhouette_score is : 0.6239093523365462\n"
     ]
    },
    {
     "name": "stderr",
     "output_type": "stream",
     "text": [
      "c:\\users\\aravind\\appdata\\local\\programs\\python\\python37\\lib\\site-packages\\IPython\\core\\pylabtools.py:128: UserWarning: Creating legend with loc=\"best\" can be slow with large amounts of data.\n",
      "  fig.canvas.print_figure(bytes_io, **kw)\n"
     ]
    },
    {
     "data": {
      "image/png": "[encoded data removed]",
      "text/plain": [
       "<Figure size 432x288 with 1 Axes>"
      ]
     },
     "metadata": {
      "needs_background": "light"
     },
     "output_type": "display_data"
    },
    {
     "name": "stdout",
     "output_type": "stream",
     "text": [
      "_______________________________________________________________\n",
      "For no of clusters = 3, The average silhouette_score is : 0.6320430623473394\n",
      "For no of clusters = 4, The average silhouette_score is : 0.6225930886499563\n"
     ]
    },
    {
     "name": "stderr",
     "output_type": "stream",
     "text": [
      "c:\\users\\aravind\\appdata\\local\\programs\\python\\python37\\lib\\site-packages\\IPython\\core\\pylabtools.py:128: UserWarning: Creating legend with loc=\"best\" can be slow with large amounts of data.\n",
      "  fig.canvas.print_figure(bytes_io, **kw)\n"
     ]
    },
    {
     "data": {
      "image/png": "[encoded data removed]",
      "text/plain": [
       "<Figure size 432x288 with 1 Axes>"
      ]
     },
     "metadata": {
      "needs_background": "light"
     },
     "output_type": "display_data"
    },
    {
     "name": "stdout",
     "output_type": "stream",
     "text": [
      "_______________________________________________________________\n",
      "For no of clusters = 3, The average silhouette_score is : 0.632681596320213\n",
      "For no of clusters = 4, The average silhouette_score is : 0.5571826039053046\n"
     ]
    },
    {
     "name": "stderr",
     "output_type": "stream",
     "text": [
      "c:\\users\\aravind\\appdata\\local\\programs\\python\\python37\\lib\\site-packages\\IPython\\core\\pylabtools.py:128: UserWarning: Creating legend with loc=\"best\" can be slow with large amounts of data.\n",
      "  fig.canvas.print_figure(bytes_io, **kw)\n"
     ]
    },
    {
     "data": {
      "image/png": "[encoded data removed]",
      "text/plain": [
       "<Figure size 432x288 with 1 Axes>"
      ]
     },
     "metadata": {
      "needs_background": "light"
     },
     "output_type": "display_data"
    },
    {
     "name": "stdout",
     "output_type": "stream",
     "text": [
      "_______________________________________________________________\n",
      "For no of clusters = 3, The average silhouette_score is : 0.6306012236033053\n",
      "For no of clusters = 4, The average silhouette_score is : 0.5608569342877393\n"
     ]
    },
    {
     "name": "stderr",
     "output_type": "stream",
     "text": [
      "c:\\users\\aravind\\appdata\\local\\programs\\python\\python37\\lib\\site-packages\\IPython\\core\\pylabtools.py:128: UserWarning: Creating legend with loc=\"best\" can be slow with large amounts of data.\n",
      "  fig.canvas.print_figure(bytes_io, **kw)\n"
     ]
    },
    {
     "data": {
      "image/png": "[encoded data removed]",
      "text/plain": [
       "<Figure size 432x288 with 1 Axes>"
      ]
     },
     "metadata": {
      "needs_background": "light"
     },
     "output_type": "display_data"
    },
    {
     "name": "stdout",
     "output_type": "stream",
     "text": [
      "_______________________________________________________________\n",
      "For no of clusters = 3, The average silhouette_score is : 0.8305856533275445\n",
      "For no of clusters = 4, The average silhouette_score is : 0.681738084926455\n"
     ]
    },
    {
     "name": "stderr",
     "output_type": "stream",
     "text": [
      "c:\\users\\aravind\\appdata\\local\\programs\\python\\python37\\lib\\site-packages\\IPython\\core\\pylabtools.py:128: UserWarning: Creating legend with loc=\"best\" can be slow with large amounts of data.\n",
      "  fig.canvas.print_figure(bytes_io, **kw)\n"
     ]
    },
    {
     "data": {
      "image/png": "[encoded data removed]",
      "text/plain": [
       "<Figure size 432x288 with 1 Axes>"
      ]
     },
     "metadata": {
      "needs_background": "light"
     },
     "output_type": "display_data"
    },
    {
     "name": "stdout",
     "output_type": "stream",
     "text": [
      "_______________________________________________________________\n",
      "For no of clusters = 3, The average silhouette_score is : 0.7776022170874675\n",
      "For no of clusters = 4, The average silhouette_score is : 0.7033746291353685\n"
     ]
    },
    {
     "name": "stderr",
     "output_type": "stream",
     "text": [
      "c:\\users\\aravind\\appdata\\local\\programs\\python\\python37\\lib\\site-packages\\IPython\\core\\pylabtools.py:128: UserWarning: Creating legend with loc=\"best\" can be slow with large amounts of data.\n",
      "  fig.canvas.print_figure(bytes_io, **kw)\n"
     ]
    },
    {
     "data": {
      "image/png": "[encoded data removed]",
      "text/plain": [
       "<Figure size 432x288 with 1 Axes>"
      ]
     },
     "metadata": {
      "needs_background": "light"
     },
     "output_type": "display_data"
    },
    {
     "name": "stdout",
     "output_type": "stream",
     "text": [
      "_______________________________________________________________\n",
      "For no of clusters = 3, The average silhouette_score is : 0.7685144665476156\n",
      "For no of clusters = 4, The average silhouette_score is : 0.6791977695309083\n"
     ]
    },
    {
     "name": "stderr",
     "output_type": "stream",
     "text": [
      "c:\\users\\aravind\\appdata\\local\\programs\\python\\python37\\lib\\site-packages\\IPython\\core\\pylabtools.py:128: UserWarning: Creating legend with loc=\"best\" can be slow with large amounts of data.\n",
      "  fig.canvas.print_figure(bytes_io, **kw)\n"
     ]
    },
    {
     "data": {
      "image/png": "[encoded data removed]",
      "text/plain": [
       "<Figure size 432x288 with 1 Axes>"
      ]
     },
     "metadata": {
      "needs_background": "light"
     },
     "output_type": "display_data"
    },
    {
     "name": "stdout",
     "output_type": "stream",
     "text": [
      "_______________________________________________________________\n",
      "For no of clusters = 3, The average silhouette_score is : 0.7797255232957788\n",
      "For no of clusters = 4, The average silhouette_score is : 0.6004787748792639\n"
     ]
    },
    {
     "name": "stderr",
     "output_type": "stream",
     "text": [
      "c:\\users\\aravind\\appdata\\local\\programs\\python\\python37\\lib\\site-packages\\IPython\\core\\pylabtools.py:128: UserWarning: Creating legend with loc=\"best\" can be slow with large amounts of data.\n",
      "  fig.canvas.print_figure(bytes_io, **kw)\n"
     ]
    },
    {
     "data": {
      "image/png": "[encoded data removed]",
      "text/plain": [
       "<Figure size 432x288 with 1 Axes>"
      ]
     },
     "metadata": {
      "needs_background": "light"
     },
     "output_type": "display_data"
    },
    {
     "name": "stdout",
     "output_type": "stream",
     "text": [
      "_______________________________________________________________\n",
      "For no of clusters = 3, The average silhouette_score is : 0.8307579030779751\n",
      "For no of clusters = 4, The average silhouette_score is : 0.5809799894675932\n"
     ]
    },
    {
     "name": "stderr",
     "output_type": "stream",
     "text": [
      "c:\\users\\aravind\\appdata\\local\\programs\\python\\python37\\lib\\site-packages\\IPython\\core\\pylabtools.py:128: UserWarning: Creating legend with loc=\"best\" can be slow with large amounts of data.\n",
      "  fig.canvas.print_figure(bytes_io, **kw)\n"
     ]
    },
    {
     "data": {
      "image/png": "[encoded data removed]",
      "text/plain": [
       "<Figure size 432x288 with 1 Axes>"
      ]
     },
     "metadata": {
      "needs_background": "light"
     },
     "output_type": "display_data"
    },
    {
     "name": "stdout",
     "output_type": "stream",
     "text": [
      "_______________________________________________________________\n",
      "For no of clusters = 3, The average silhouette_score is : 0.6761702143374487\n",
      "For no of clusters = 4, The average silhouette_score is : 0.6692822701319131\n"
     ]
    },
    {
     "name": "stderr",
     "output_type": "stream",
     "text": [
      "c:\\users\\aravind\\appdata\\local\\programs\\python\\python37\\lib\\site-packages\\IPython\\core\\pylabtools.py:128: UserWarning: Creating legend with loc=\"best\" can be slow with large amounts of data.\n",
      "  fig.canvas.print_figure(bytes_io, **kw)\n"
     ]
    },
    {
     "data": {
      "image/png": "[encoded data removed]",
      "text/plain": [
       "<Figure size 432x288 with 1 Axes>"
      ]
     },
     "metadata": {
      "needs_background": "light"
     },
     "output_type": "display_data"
    },
    {
     "name": "stdout",
     "output_type": "stream",
     "text": [
      "_______________________________________________________________\n",
      "For no of clusters = 3, The average silhouette_score is : 0.5658905378032885\n",
      "For no of clusters = 4, The average silhouette_score is : 0.5968161164206889\n"
     ]
    },
    {
     "name": "stderr",
     "output_type": "stream",
     "text": [
      "c:\\users\\aravind\\appdata\\local\\programs\\python\\python37\\lib\\site-packages\\IPython\\core\\pylabtools.py:128: UserWarning: Creating legend with loc=\"best\" can be slow with large amounts of data.\n",
      "  fig.canvas.print_figure(bytes_io, **kw)\n"
     ]
    },
    {
     "data": {
      "image/png": "[encoded data removed]",
      "text/plain": [
       "<Figure size 432x288 with 1 Axes>"
      ]
     },
     "metadata": {
      "needs_background": "light"
     },
     "output_type": "display_data"
    },
    {
     "name": "stdout",
     "output_type": "stream",
     "text": [
      "_______________________________________________________________\n",
      "For no of clusters = 3, The average silhouette_score is : 0.68108739416207\n",
      "For no of clusters = 4, The average silhouette_score is : 0.6858770372571223\n"
     ]
    },
    {
     "name": "stderr",
     "output_type": "stream",
     "text": [
      "c:\\users\\aravind\\appdata\\local\\programs\\python\\python37\\lib\\site-packages\\IPython\\core\\pylabtools.py:128: UserWarning: Creating legend with loc=\"best\" can be slow with large amounts of data.\n",
      "  fig.canvas.print_figure(bytes_io, **kw)\n"
     ]
    },
    {
     "data": {
      "image/png": "[encoded data removed]",
      "text/plain": [
       "<Figure size 432x288 with 1 Axes>"
      ]
     },
     "metadata": {
      "needs_background": "light"
     },
     "output_type": "display_data"
    },
    {
     "name": "stdout",
     "output_type": "stream",
     "text": [
      "_______________________________________________________________\n",
      "For no of clusters = 3, The average silhouette_score is : 0.6446749953450959\n",
      "For no of clusters = 4, The average silhouette_score is : 0.6538225919686991\n"
     ]
    },
    {
     "name": "stderr",
     "output_type": "stream",
     "text": [
      "c:\\users\\aravind\\appdata\\local\\programs\\python\\python37\\lib\\site-packages\\IPython\\core\\pylabtools.py:128: UserWarning: Creating legend with loc=\"best\" can be slow with large amounts of data.\n",
      "  fig.canvas.print_figure(bytes_io, **kw)\n"
     ]
    },
    {
     "data": {
      "image/png": "[encoded data removed]",
      "text/plain": [
       "<Figure size 432x288 with 1 Axes>"
      ]
     },
     "metadata": {
      "needs_background": "light"
     },
     "output_type": "display_data"
    },
    {
     "name": "stdout",
     "output_type": "stream",
     "text": [
      "_______________________________________________________________\n",
      "For no of clusters = 3, The average silhouette_score is : 0.6037978646398752\n",
      "For no of clusters = 4, The average silhouette_score is : 0.5998767463841962\n"
     ]
    },
    {
     "name": "stderr",
     "output_type": "stream",
     "text": [
      "c:\\users\\aravind\\appdata\\local\\programs\\python\\python37\\lib\\site-packages\\IPython\\core\\pylabtools.py:128: UserWarning: Creating legend with loc=\"best\" can be slow with large amounts of data.\n",
      "  fig.canvas.print_figure(bytes_io, **kw)\n"
     ]
    },
    {
     "data": {
      "image/png": "[encoded data removed]",
      "text/plain": [
       "<Figure size 432x288 with 1 Axes>"
      ]
     },
     "metadata": {
      "needs_background": "light"
     },
     "output_type": "display_data"
    },
    {
     "name": "stdout",
     "output_type": "stream",
     "text": [
      "_______________________________________________________________\n"
     ]
    }
   ],
   "source": [
    "\"\"\"\n",
    "principal components are plotted against each other to select two dimensional components.\n",
    "Some components gave higher silhouette score, but it causes overfitting when clustering the customers\n",
    "It grouped 80% of the customers in the same cluster, and only remaining 20% were distributed.\n",
    "It was same in the case of both (1,2), (2,3)\n",
    "\n",
    "This analysis is not used since the higher values seems to group most of the customers in the same cluster.\n",
    "\"\"\"\n",
    "fig = plt.figure(figsize=(8,8))\n",
    "jstart = 0\n",
    "clusternum = 3\n",
    "pcpairs = []\n",
    "silscores = []\n",
    "for i in range(6):\n",
    "    jstart += 1\n",
    "    for j in range(jstart,6):\n",
    "        pcpairs.append(\"(\"+str(i)+\",\"+str(j)+\")\")\n",
    "        tocluster = pd.DataFrame(dr_samples[[i,j]])\n",
    "        \n",
    "        #forming 3 clusters and finding silhouette score\n",
    "        c_preds = KMeans(n_clusters=clusternum).fit_predict(tocluster)\n",
    "        silhouette_avg = silhouette_score(tocluster, c_preds)\n",
    "        print(\"For no of clusters = 3, The average silhouette_score is :\", silhouette_avg)\n",
    "        silscores.append(silhouette_avg)\n",
    "\n",
    "        #forming 4 clusters and finding silhouette score\n",
    "        c_preds = KMeans(n_clusters=clusternum+1).fit_predict(tocluster)\n",
    "        silhouette_avg = silhouette_score(tocluster, c_preds)\n",
    "        print(\"For no of clusters = 4, The average silhouette_score is :\", silhouette_avg)\n",
    "        \n",
    "        plt.plot(tocluster[i], tocluster[j],'o',markersize=2,color='blue',alpha=0.5,label='class1')\n",
    "        plt.xlabel('PC'+str(i))\n",
    "        plt.ylabel('PC'+str(j))\n",
    "        plt.legend()\n",
    "        plt.show()\n",
    "        print(\"_______________________________________________________________\")"
   ]
  },
  {
   "cell_type": "code",
   "execution_count": 50,
   "metadata": {},
   "outputs": [
    {
     "data": {
      "image/png": "[encoded data removed]",
      "text/plain": [
       "<Figure size 1080x360 with 1 Axes>"
      ]
     },
     "metadata": {
      "needs_background": "light"
     },
     "output_type": "display_data"
    }
   ],
   "source": [
    "\"\"\"\n",
    "Some components gave higher silhouette score, but it causes overfitting when clustering the customers\n",
    "It grouped 80% of the customers in the same cluster, and only remaining 20% were distributed.\n",
    "It was same in the case of both (1,2), (2,3).\n",
    "So, these components are not chosen for clustering.\n",
    "\"\"\"\n",
    "%matplotlib inline\n",
    "import matplotlib.pyplot as plt\n",
    "plt.rcParams[\"figure.figsize\"] = (15, 5)\n",
    "plt.plot(pcpairs,silscores)\n",
    "\n",
    "maxy = max(silscores)\n",
    "xpos = silscores.index(maxy)\n",
    "maxx = pcpairs[xpos]\n",
    "\n",
    "plt.annotate('Max value', xy=(maxx, maxy), xytext=(maxx,maxy+0.01),arrowprops=dict(arrowstyle=\"->\"))\n",
    "plt.xlabel('Principal component pairs')\n",
    "plt.ylabel('silhouette scores - 3 clusters')\n",
    "plt.title('Choosing 2D Principal Components for the Clustering Model')\n",
    "plt.grid(linestyle='dotted')\n",
    "\n",
    "plt.show()"
   ]
  },
  {
   "cell_type": "markdown",
   "metadata": {},
   "source": [
    "## Choosing the value of K using Elbow Curve\n",
    "\n",
    "The elbow curve is drawn based on both distortion and inertia values of clusters formed."
   ]
  },
  {
   "cell_type": "code",
   "execution_count": 173,
   "metadata": {},
   "outputs": [],
   "source": [
    "\"\"\"\n",
    "clustering algorithm chosen : KMeans\n",
    "choosing the value of K using Elbow curve\n",
    "An Elbow curve is drawn for clusters based on distortion and inertia\n",
    "\"\"\"\n",
    "from scipy.spatial.distance import cdist \n",
    "\n",
    "distortion = []\n",
    "inertia = []\n",
    "tocluster = pd.DataFrame(dr_samples[[0,1,2]])\n",
    "\n",
    "for i in range(1, 11):\n",
    "    km = KMeans(n_clusters=i)\n",
    "    km.fit(tocluster)\n",
    "    \n",
    "    #append inertia of each cluster size\n",
    "    inertia.append(km.inertia_)\n",
    "    \n",
    "    #append distortion of each cluster size\n",
    "    distortion.append(sum(np.min(cdist(tocluster, km.cluster_centers_, 'cosine'),axis=1))/tocluster.shape[0])"
   ]
  },
  {
   "cell_type": "code",
   "execution_count": 174,
   "metadata": {},
   "outputs": [
    {
     "data": {
      "image/png": "[encoded data removed]",
      "text/plain": [
       "<Figure size 432x288 with 1 Axes>"
      ]
     },
     "metadata": {
      "needs_background": "light"
     },
     "output_type": "display_data"
    }
   ],
   "source": [
    "\"\"\"\n",
    "Based on distortion in the columns (0,1,2)\n",
    "\"\"\"\n",
    "plt.plot(range(1, 11), distortion, marker='o')\n",
    "plt.xticks(np.arange(1,11, step=1))\n",
    "plt.xlabel('Number of clusters')\n",
    "plt.ylabel('Distortion')\n",
    "plt.show()"
   ]
  },
  {
   "cell_type": "code",
   "execution_count": 175,
   "metadata": {
    "scrolled": true
   },
   "outputs": [
    {
     "data": {
      "image/png": "[encoded data removed]",
      "text/plain": [
       "<Figure size 432x288 with 1 Axes>"
      ]
     },
     "metadata": {
      "needs_background": "light"
     },
     "output_type": "display_data"
    }
   ],
   "source": [
    "\"\"\"\n",
    "Based on inertia - not an informative Elbow curve\n",
    "\"\"\"\n",
    "plt.plot(range(1, 11), inertia, marker='o')\n",
    "plt.xticks(np.arange(1,11, step=1))\n",
    "plt.xlabel('Number of clusters')\n",
    "plt.ylabel('Distortion')\n",
    "plt.show()"
   ]
  },
  {
   "cell_type": "markdown",
   "metadata": {},
   "source": [
    "## Choosing the value of K using Silhouette Analysis\n",
    "\n",
    "It is an additional check to confirm the value of K (cluster size)"
   ]
  },
  {
   "cell_type": "code",
   "execution_count": 179,
   "metadata": {},
   "outputs": [
    {
     "name": "stdout",
     "output_type": "stream",
     "text": [
      "For no of clusters = 2,The average silhouette_score is : 0.711942\n",
      "For no of clusters = 3,The average silhouette_score is : 0.710364\n",
      "For no of clusters = 4,The average silhouette_score is : 0.584165\n",
      "For no of clusters = 5,The average silhouette_score is : 0.584541\n",
      "For no of clusters = 6,The average silhouette_score is : 0.591888\n",
      "For no of clusters = 7,The average silhouette_score is : 0.515403\n",
      "For no of clusters = 8,The average silhouette_score is : 0.518780\n",
      "For no of clusters = 9,The average silhouette_score is : 0.524185\n",
      "For no of clusters = 10,The average silhouette_score is : 0.472336\n"
     ]
    }
   ],
   "source": [
    "\"\"\"\n",
    "clustering algorithm chosen : KMeans\n",
    "choosing the value of K using Silhouette score analysis\n",
    "Additional check to confirm the number of clusters\n",
    "\"\"\"\n",
    "tocluster = pd.DataFrame(dr_samples[[0,1,2]])\n",
    "silscores = []\n",
    "for i in range(2,11):\n",
    "    c_preds = KMeans(n_clusters=i).fit_predict(tocluster)\n",
    "    silhouette_avg = silhouette_score(tocluster, c_preds)\n",
    "    silscores.append(silhouette_avg)\n",
    "    print(\"For no of clusters = %d,The average silhouette_score is : %f\"%(i,silhouette_avg))"
   ]
  },
  {
   "cell_type": "code",
   "execution_count": 180,
   "metadata": {},
   "outputs": [
    {
     "data": {
      "text/plain": [
       "[0.7119424891549846,\n",
       " 0.7103644535001636,\n",
       " 0.5841647186146506,\n",
       " 0.584540756355738,\n",
       " 0.5918875883015601,\n",
       " 0.5154029918607275,\n",
       " 0.5187797498530825,\n",
       " 0.5241848465697974,\n",
       " 0.4723361022969673]"
      ]
     },
     "execution_count": 180,
     "metadata": {},
     "output_type": "execute_result"
    }
   ],
   "source": [
    "silscores"
   ]
  },
  {
   "cell_type": "code",
   "execution_count": 182,
   "metadata": {},
   "outputs": [
    {
     "data": {
      "image/png": "[encoded data removed]",
      "text/plain": [
       "<Figure size 1080x360 with 1 Axes>"
      ]
     },
     "metadata": {
      "needs_background": "light"
     },
     "output_type": "display_data"
    }
   ],
   "source": [
    "\"\"\"\n",
    "choosing the value of K using Silhouette score analysis\n",
    "This plot shows the silhouette scores against the number of clusters\n",
    "\"\"\"\n",
    "plt.rcParams[\"figure.figsize\"] = (15, 5)\n",
    "plt.plot(range(2,11),silscores)\n",
    "plt.xlabel('Number of clusters')\n",
    "plt.ylabel('silhouette scores')\n",
    "plt.title('Choosing the value of K using Silhouette Analysis')\n",
    "plt.grid(linestyle='dotted')\n",
    "\n",
    "plt.show()"
   ]
  },
  {
   "cell_type": "markdown",
   "metadata": {},
   "source": [
    "### Considering the output of Elbow Curve and Silhouette Analysis, the chosen value for K is 3 "
   ]
  },
  {
   "cell_type": "code",
   "execution_count": 20,
   "metadata": {},
   "outputs": [],
   "source": [
    "comp1 = 0\n",
    "comp2 = 1\n",
    "comp3 = 2\n",
    "nclusters = 3"
   ]
  },
  {
   "cell_type": "code",
   "execution_count": 21,
   "metadata": {
    "scrolled": true
   },
   "outputs": [
    {
     "name": "stdout",
     "output_type": "stream",
     "text": [
      "           0         1         2\n",
      "0   4.914802 -0.222244 -2.186922\n",
      "1  -7.056537  1.258517 -2.845187\n",
      "2   4.593016 -0.077336 -0.741889\n",
      "3  12.684742  0.031870  0.311738\n",
      "4  11.257591 -1.576486 -1.433090\n"
     ]
    }
   ],
   "source": [
    "tocluster = pd.DataFrame(dr_samples[[comp1,comp2,comp3]])\n",
    "print(tocluster.head())"
   ]
  },
  {
   "cell_type": "markdown",
   "metadata": {},
   "source": [
    "## Data Visualization after dimensionality reduction"
   ]
  },
  {
   "cell_type": "code",
   "execution_count": 218,
   "metadata": {
    "scrolled": true
   },
   "outputs": [
    {
     "data": {
      "image/png": "[encoded data removed]",
      "text/plain": [
       "<Figure size 1080x576 with 1 Axes>"
      ]
     },
     "metadata": {
      "needs_background": "light"
     },
     "output_type": "display_data"
    }
   ],
   "source": [
    "\"\"\"\n",
    "DATA VISUALIZATION\n",
    "plotting principal components in 3D space\n",
    "\"\"\"\n",
    "from mpl_toolkits.mplot3d import Axes3D\n",
    "\n",
    "fig = plt.figure(figsize=(15,8))\n",
    "ax = fig.add_subplot(111, projection='3d')\n",
    "ax.scatter(dr_samples[comp1], dr_samples[comp2], dr_samples[comp3], c='blue', s=60)\n",
    "ax.set_xlabel('PC0')\n",
    "ax.set_ylabel('PC1')\n",
    "ax.set_zlabel('PC2')\n",
    "ax.set_title('Principal Components distribution')\n",
    "ax.view_init(30, 185)\n",
    "plt.show()"
   ]
  },
  {
   "cell_type": "markdown",
   "metadata": {},
   "source": [
    "## Clustering Model Training\n",
    "\n",
    "Clustering model is trained using KMeans and validated using Silhouette Coefficient. <br>\n",
    "MiniBatchKMeans, KMeans, Birch, GaussianMixture, Spectral Clustering are the other algorithms explored. <br>\n",
    "After the value of K is chosen using Elbow curve and verified with silhouette analysis, the clustering model is trained with the different clustering algorithms and the clustering performance is analysed using Silhouette coefficent.<br>\n",
    "<br>\n",
    "<b>Finalized Algorithm: KMeans</b> <br>\n",
    "<b>Reasons for choosing KMeans</b><br>\n",
    "<ol>\n",
    "<li>Better results on the cluster validity check comparing to the other clustering algorithms.</li>\n",
    "<li>The data distribution seems not to have differing sizes/shapes/density which affects KMeans performance. Eventhough it has outliers, those are given importance in this problem since it denotes higher purchase rate.</li>\n",
    "<li>Model training time is pretty fast in KMeans. Besides avoiding complex and memory consuming calculations like in spectral clustering or affinity propogation, KMeans also provides better performance.</li>\n",
    "</ol>"
   ]
  },
  {
   "cell_type": "code",
   "execution_count": 22,
   "metadata": {},
   "outputs": [],
   "source": [
    "\"\"\"\n",
    "CLUSTERING MODELS\n",
    "created dictionary of various clustering models\n",
    "\"\"\"\n",
    "def get_clusterer(clusterer = \"KMEANS\", nclusters = 3):\n",
    "    clusterer_dict = {\n",
    "        \"KMEANS\": KMeans(n_clusters=nclusters, random_state=21),\n",
    "        \"MBKM\": MiniBatchKMeans(init='k-means++', n_clusters=nclusters,\n",
    "                      n_init=10, max_no_improvement=10, verbose=0),\n",
    "        \"BIRCH\" : Birch(n_clusters=nclusters),\n",
    "        \"GM\" : mixture.GaussianMixture(n_components=nclusters, covariance_type='full')\n",
    "        #Spectralclustering takes too long time\n",
    "        #\"SC\" : SpectralClustering(n_clusters=nclusters,assign_labels=\"discretize\",random_state=21)        \n",
    "    }\n",
    "    return clusterer_dict[clusterer]"
   ]
  },
  {
   "cell_type": "code",
   "execution_count": 23,
   "metadata": {
    "scrolled": true
   },
   "outputs": [
    {
     "name": "stdout",
     "output_type": "stream",
     "text": [
      "[0 0 0 0 0 0 0 0 0 0 0 0 0 0 0 0 0 0 0 0 0 0 0 0 0 0 2 0 0 0 1 0 0 0 0 0 0\n",
      " 0 0 0 0 0 0 0 0 0 0 0 0 2 0 0 0 1 0 0 0 0 0 0 0 0 1 0 0 0 0 0 0 0 1 0 0 0\n",
      " 0 0 0 0 0 0 0 0 0 0 0 0 0 0 0 2 0 0 0 0 0 0 0 0 0 0]\n"
     ]
    }
   ],
   "source": [
    "\"\"\"\n",
    "Clustering model training\n",
    "\"\"\"\n",
    "clustering_algo = \"KMEANS\"\n",
    "clusterer = get_clusterer(clusterer=clustering_algo, nclusters=nclusters)\n",
    "clusterer.fit(tocluster)\n",
    "\n",
    "if(clustering_algo == \"KMEANS\" ):\n",
    "    centers = clusterer.cluster_centers_\n",
    "\n",
    "c_preds = clusterer.predict(tocluster)\n",
    "print(c_preds[0:100])"
   ]
  },
  {
   "cell_type": "markdown",
   "metadata": {},
   "source": [
    "## Cluster Validity check"
   ]
  },
  {
   "cell_type": "code",
   "execution_count": 25,
   "metadata": {
    "scrolled": true
   },
   "outputs": [
    {
     "name": "stdout",
     "output_type": "stream",
     "text": [
      "For no of clusters =  3  The average silhouette_score is : 0.7103573266203149\n"
     ]
    }
   ],
   "source": [
    "\"\"\"\n",
    "CLUSTER VALIDITY - Silhouette Coefficient\n",
    "Predicting silhouette score for formed clusters\n",
    "\"\"\" \n",
    "#silscores_algo = []\n",
    "silhouette_avg = silhouette_score(tocluster, c_preds) \n",
    "print(\"For no of clusters = \",nclusters, \n",
    "          \" The average silhouette_score is :\", silhouette_avg)\n",
    "#silscores_algo.append(silhouette_avg)"
   ]
  },
  {
   "cell_type": "code",
   "execution_count": 78,
   "metadata": {
    "scrolled": true
   },
   "outputs": [
    {
     "data": {
      "image/png": "[encoded data removed]",
      "text/plain": [
       "<Figure size 1080x576 with 1 Axes>"
      ]
     },
     "metadata": {
      "needs_background": "light"
     },
     "output_type": "display_data"
    }
   ],
   "source": [
    "\"\"\"\n",
    "To check how clusters are formed\n",
    "\"\"\"\n",
    "%matplotlib inline\n",
    "\n",
    "\n",
    "from mpl_toolkits.mplot3d import Axes3D\n",
    "\n",
    "colors = ['orange','blue','green','purple']\n",
    "#colors = ['orange','blue','green']\n",
    "colored = [colors[k] for k in c_preds]\n",
    "fig = plt.figure(figsize=(15,8))\n",
    "ax = fig.add_subplot(111, projection='3d')\n",
    "ax.scatter(dr_samples[0], dr_samples[1], dr_samples[2], c=colored, s=60)\n",
    "ax.view_init(30, 185)\n",
    "ax.set_xlabel('PC0')\n",
    "ax.set_ylabel('PC1')\n",
    "ax.set_zlabel('PC2')\n",
    "ax.set_title('KMeans Clustering')\n",
    "plt.show()"
   ]
  },
  {
   "cell_type": "markdown",
   "metadata": {},
   "source": [
    "## Silhouette Analysis for KMeans clustering output"
   ]
  },
  {
   "cell_type": "code",
   "execution_count": 181,
   "metadata": {},
   "outputs": [
    {
     "name": "stdout",
     "output_type": "stream",
     "text": [
      "n_clusters =  3 The silhouette_score is : 0.7103620694106347\n",
      "n_clusters =  4 The silhouette_score is : 0.5856538935050242\n",
      "n_clusters =  5 The silhouette_score is : 0.584503505406592\n",
      "n_clusters =  6 The silhouette_score is : 0.5917105990112439\n"
     ]
    },
    {
     "data": {
      "image/png": "[encoded data removed]",
      "text/plain": [
       "<Figure size 864x360 with 1 Axes>"
      ]
     },
     "metadata": {
      "needs_background": "light"
     },
     "output_type": "display_data"
    },
    {
     "data": {
      "image/png": "[encoded data removed]",
      "text/plain": [
       "<Figure size 864x360 with 1 Axes>"
      ]
     },
     "metadata": {
      "needs_background": "light"
     },
     "output_type": "display_data"
    },
    {
     "data": {
      "image/png": "[encoded data removed]",
      "text/plain": [
       "<Figure size 864x360 with 1 Axes>"
      ]
     },
     "metadata": {
      "needs_background": "light"
     },
     "output_type": "display_data"
    },
    {
     "data": {
      "image/png": "[encoded data removed]",
      "text/plain": [
       "<Figure size 864x360 with 1 Axes>"
      ]
     },
     "metadata": {
      "needs_background": "light"
     },
     "output_type": "display_data"
    }
   ],
   "source": [
    "\"\"\"\n",
    "Detailed analysis of clustering for the cluster size 3-6\n",
    "\"\"\"\n",
    "import matplotlib.cm as cm\n",
    "\n",
    "cluster_size = [3, 4, 5, 6]\n",
    "\n",
    "X = pd.DataFrame(dr_samples[[0,1,2]])\n",
    "for n_clusters in cluster_size:\n",
    "    fig, ax1 = plt.subplots(1)\n",
    "    fig.set_size_inches(12, 5)\n",
    "\n",
    "    # first subplot - silhouette plot\n",
    "    # setting x axis limit\n",
    "    ax1.set_xlim([-0.1, 1])\n",
    "    \n",
    "    # setting y-axis limit\n",
    "    ax1.set_ylim([0, len(X) + (n_clusters + 1) * 10])\n",
    "\n",
    "    # KMeans clustering\n",
    "    clusterer = KMeans(n_clusters=n_clusters)\n",
    "    c_preds = clusterer.fit_predict(X)\n",
    "\n",
    "    # silhouette score gives the info about the cluster formation\n",
    "    # how well cluster's intra-cluster distance is decreased and inter-cluster distance is increased\n",
    "    silhouette_avg = silhouette_score(X, c_preds)\n",
    "    print(\"n_clusters = \", n_clusters,\"The silhouette_score is :\", silhouette_avg)\n",
    "\n",
    "    # silhouette score for each sample\n",
    "    sil_samples = silhouette_samples(X, c_preds)\n",
    "\n",
    "\n",
    "    y_end = 10\n",
    "    for i in range(n_clusters):\n",
    "        each_cluster_values = sil_samples[c_preds == i]\n",
    "        each_cluster_values.sort()\n",
    "\n",
    "        each_cluster_size = each_cluster_values.shape[0]\n",
    "        y_start = y_end + each_cluster_size\n",
    "\n",
    "        color = cm.nipy_spectral(float(i) / n_clusters)\n",
    "        ax1.fill_betweenx(np.arange(y_end, y_start),0, each_cluster_values,facecolor=color, edgecolor=color, alpha=0.7)\n",
    "\n",
    "        #silhouette plots label\n",
    "        ax1.text(-0.05, y_end + 0.5 * each_cluster_size, str(i))\n",
    "\n",
    "        # new ylower value\n",
    "        y_end = y_start + 10\n",
    "\n",
    "    ax1.set_title(\"Silhouette plot for various clusters\")\n",
    "    ax1.set_xlabel(\"The silhouette coefficient values\")\n",
    "    ax1.set_ylabel(\"Cluster label\")\n",
    "\n",
    "    # red line shows the average silhouette score\n",
    "    ax1.axvline(x=silhouette_avg, color=\"red\", linestyle=\"--\")\n",
    "\n",
    "    ax1.set_yticks([])\n",
    "    ax1.set_xticks([-0.1, 0, 0.2, 0.4, 0.6, 0.8, 1])\n",
    "\n",
    "    plt.suptitle((\"Silhouette analysis for KMeans clustering on sample data with n_clusters = %d\" % n_clusters),\n",
    "                 fontsize=14, fontweight='bold')\n",
    "\n",
    "plt.show()"
   ]
  },
  {
   "cell_type": "markdown",
   "metadata": {},
   "source": [
    "It is noticed from the silhouette analysis for KMeans clustering that mostly items are grouped into cluster 0(first cluster).\n",
    "So, Cluster 0 holds all the general products which is common among the customers. And, the other variations are captured\n",
    "in the remaining clusters."
   ]
  },
  {
   "cell_type": "markdown",
   "metadata": {},
   "source": [
    "### Final dataframe with cluster output\n",
    "\n",
    "This dataframe is used for targeted marketing where the list of common buyers (user ids) can be found given the aisle. <br>"
   ]
  },
  {
   "cell_type": "code",
   "execution_count": 24,
   "metadata": {
    "scrolled": true
   },
   "outputs": [
    {
     "data": {
      "text/html": [
       "<div>\n",
       "<style scoped>\n",
       "    .dataframe tbody tr th:only-of-type {\n",
       "        vertical-align: middle;\n",
       "    }\n",
       "\n",
       "    .dataframe tbody tr th {\n",
       "        vertical-align: top;\n",
       "    }\n",
       "\n",
       "    .dataframe thead th {\n",
       "        text-align: right;\n",
       "    }\n",
       "</style>\n",
       "<table border=\"1\" class=\"dataframe\">\n",
       "  <thead>\n",
       "    <tr style=\"text-align: right;\">\n",
       "      <th></th>\n",
       "      <th>air_fresheners_candles</th>\n",
       "      <th>asian_foods</th>\n",
       "      <th>baby_accessories</th>\n",
       "      <th>baby_bath_body_care</th>\n",
       "      <th>baby_food_formula</th>\n",
       "      <th>bakery_desserts</th>\n",
       "      <th>baking_ingredients</th>\n",
       "      <th>baking_supplies_decor</th>\n",
       "      <th>beauty</th>\n",
       "      <th>beers_coolers</th>\n",
       "      <th>...</th>\n",
       "      <th>spreads</th>\n",
       "      <th>tea</th>\n",
       "      <th>tofu_meat_alternatives</th>\n",
       "      <th>tortillas_flat_bread</th>\n",
       "      <th>trail_mix_snack_mix</th>\n",
       "      <th>trash_bags_liners</th>\n",
       "      <th>vitamins_supplements</th>\n",
       "      <th>water_seltzer_sparkling_water</th>\n",
       "      <th>white_wines</th>\n",
       "      <th>cluster</th>\n",
       "    </tr>\n",
       "    <tr>\n",
       "      <th>user_id</th>\n",
       "      <th></th>\n",
       "      <th></th>\n",
       "      <th></th>\n",
       "      <th></th>\n",
       "      <th></th>\n",
       "      <th></th>\n",
       "      <th></th>\n",
       "      <th></th>\n",
       "      <th></th>\n",
       "      <th></th>\n",
       "      <th></th>\n",
       "      <th></th>\n",
       "      <th></th>\n",
       "      <th></th>\n",
       "      <th></th>\n",
       "      <th></th>\n",
       "      <th></th>\n",
       "      <th></th>\n",
       "      <th></th>\n",
       "      <th></th>\n",
       "      <th></th>\n",
       "    </tr>\n",
       "  </thead>\n",
       "  <tbody>\n",
       "    <tr>\n",
       "      <th>1</th>\n",
       "      <td>0</td>\n",
       "      <td>0</td>\n",
       "      <td>0</td>\n",
       "      <td>0</td>\n",
       "      <td>0</td>\n",
       "      <td>0</td>\n",
       "      <td>0</td>\n",
       "      <td>0</td>\n",
       "      <td>0</td>\n",
       "      <td>0</td>\n",
       "      <td>...</td>\n",
       "      <td>1</td>\n",
       "      <td>0</td>\n",
       "      <td>0</td>\n",
       "      <td>0</td>\n",
       "      <td>0</td>\n",
       "      <td>0</td>\n",
       "      <td>0</td>\n",
       "      <td>0</td>\n",
       "      <td>0</td>\n",
       "      <td>0</td>\n",
       "    </tr>\n",
       "    <tr>\n",
       "      <th>2</th>\n",
       "      <td>0</td>\n",
       "      <td>3</td>\n",
       "      <td>0</td>\n",
       "      <td>0</td>\n",
       "      <td>0</td>\n",
       "      <td>0</td>\n",
       "      <td>2</td>\n",
       "      <td>0</td>\n",
       "      <td>0</td>\n",
       "      <td>0</td>\n",
       "      <td>...</td>\n",
       "      <td>3</td>\n",
       "      <td>1</td>\n",
       "      <td>1</td>\n",
       "      <td>0</td>\n",
       "      <td>0</td>\n",
       "      <td>0</td>\n",
       "      <td>0</td>\n",
       "      <td>2</td>\n",
       "      <td>0</td>\n",
       "      <td>0</td>\n",
       "    </tr>\n",
       "    <tr>\n",
       "      <th>3</th>\n",
       "      <td>0</td>\n",
       "      <td>0</td>\n",
       "      <td>0</td>\n",
       "      <td>0</td>\n",
       "      <td>0</td>\n",
       "      <td>0</td>\n",
       "      <td>0</td>\n",
       "      <td>0</td>\n",
       "      <td>0</td>\n",
       "      <td>0</td>\n",
       "      <td>...</td>\n",
       "      <td>4</td>\n",
       "      <td>1</td>\n",
       "      <td>0</td>\n",
       "      <td>0</td>\n",
       "      <td>0</td>\n",
       "      <td>0</td>\n",
       "      <td>0</td>\n",
       "      <td>2</td>\n",
       "      <td>0</td>\n",
       "      <td>0</td>\n",
       "    </tr>\n",
       "    <tr>\n",
       "      <th>4</th>\n",
       "      <td>0</td>\n",
       "      <td>0</td>\n",
       "      <td>0</td>\n",
       "      <td>0</td>\n",
       "      <td>0</td>\n",
       "      <td>0</td>\n",
       "      <td>0</td>\n",
       "      <td>0</td>\n",
       "      <td>0</td>\n",
       "      <td>0</td>\n",
       "      <td>...</td>\n",
       "      <td>0</td>\n",
       "      <td>0</td>\n",
       "      <td>0</td>\n",
       "      <td>1</td>\n",
       "      <td>0</td>\n",
       "      <td>0</td>\n",
       "      <td>0</td>\n",
       "      <td>1</td>\n",
       "      <td>0</td>\n",
       "      <td>0</td>\n",
       "    </tr>\n",
       "    <tr>\n",
       "      <th>5</th>\n",
       "      <td>1</td>\n",
       "      <td>4</td>\n",
       "      <td>0</td>\n",
       "      <td>0</td>\n",
       "      <td>0</td>\n",
       "      <td>0</td>\n",
       "      <td>0</td>\n",
       "      <td>0</td>\n",
       "      <td>0</td>\n",
       "      <td>0</td>\n",
       "      <td>...</td>\n",
       "      <td>0</td>\n",
       "      <td>0</td>\n",
       "      <td>0</td>\n",
       "      <td>0</td>\n",
       "      <td>0</td>\n",
       "      <td>0</td>\n",
       "      <td>0</td>\n",
       "      <td>0</td>\n",
       "      <td>0</td>\n",
       "      <td>0</td>\n",
       "    </tr>\n",
       "    <tr>\n",
       "      <th>6</th>\n",
       "      <td>0</td>\n",
       "      <td>0</td>\n",
       "      <td>0</td>\n",
       "      <td>0</td>\n",
       "      <td>0</td>\n",
       "      <td>0</td>\n",
       "      <td>0</td>\n",
       "      <td>0</td>\n",
       "      <td>0</td>\n",
       "      <td>0</td>\n",
       "      <td>...</td>\n",
       "      <td>0</td>\n",
       "      <td>0</td>\n",
       "      <td>0</td>\n",
       "      <td>0</td>\n",
       "      <td>0</td>\n",
       "      <td>0</td>\n",
       "      <td>0</td>\n",
       "      <td>0</td>\n",
       "      <td>0</td>\n",
       "      <td>0</td>\n",
       "    </tr>\n",
       "    <tr>\n",
       "      <th>7</th>\n",
       "      <td>0</td>\n",
       "      <td>0</td>\n",
       "      <td>0</td>\n",
       "      <td>0</td>\n",
       "      <td>0</td>\n",
       "      <td>0</td>\n",
       "      <td>3</td>\n",
       "      <td>0</td>\n",
       "      <td>0</td>\n",
       "      <td>0</td>\n",
       "      <td>...</td>\n",
       "      <td>0</td>\n",
       "      <td>0</td>\n",
       "      <td>0</td>\n",
       "      <td>0</td>\n",
       "      <td>0</td>\n",
       "      <td>0</td>\n",
       "      <td>0</td>\n",
       "      <td>0</td>\n",
       "      <td>0</td>\n",
       "      <td>0</td>\n",
       "    </tr>\n",
       "    <tr>\n",
       "      <th>8</th>\n",
       "      <td>0</td>\n",
       "      <td>1</td>\n",
       "      <td>0</td>\n",
       "      <td>0</td>\n",
       "      <td>0</td>\n",
       "      <td>0</td>\n",
       "      <td>1</td>\n",
       "      <td>0</td>\n",
       "      <td>0</td>\n",
       "      <td>0</td>\n",
       "      <td>...</td>\n",
       "      <td>0</td>\n",
       "      <td>0</td>\n",
       "      <td>1</td>\n",
       "      <td>1</td>\n",
       "      <td>0</td>\n",
       "      <td>0</td>\n",
       "      <td>0</td>\n",
       "      <td>0</td>\n",
       "      <td>0</td>\n",
       "      <td>0</td>\n",
       "    </tr>\n",
       "    <tr>\n",
       "      <th>9</th>\n",
       "      <td>0</td>\n",
       "      <td>0</td>\n",
       "      <td>0</td>\n",
       "      <td>0</td>\n",
       "      <td>6</td>\n",
       "      <td>0</td>\n",
       "      <td>2</td>\n",
       "      <td>0</td>\n",
       "      <td>0</td>\n",
       "      <td>0</td>\n",
       "      <td>...</td>\n",
       "      <td>0</td>\n",
       "      <td>0</td>\n",
       "      <td>0</td>\n",
       "      <td>0</td>\n",
       "      <td>0</td>\n",
       "      <td>0</td>\n",
       "      <td>0</td>\n",
       "      <td>3</td>\n",
       "      <td>0</td>\n",
       "      <td>0</td>\n",
       "    </tr>\n",
       "    <tr>\n",
       "      <th>10</th>\n",
       "      <td>0</td>\n",
       "      <td>1</td>\n",
       "      <td>0</td>\n",
       "      <td>0</td>\n",
       "      <td>0</td>\n",
       "      <td>0</td>\n",
       "      <td>0</td>\n",
       "      <td>0</td>\n",
       "      <td>0</td>\n",
       "      <td>0</td>\n",
       "      <td>...</td>\n",
       "      <td>0</td>\n",
       "      <td>0</td>\n",
       "      <td>0</td>\n",
       "      <td>0</td>\n",
       "      <td>0</td>\n",
       "      <td>0</td>\n",
       "      <td>0</td>\n",
       "      <td>0</td>\n",
       "      <td>0</td>\n",
       "      <td>0</td>\n",
       "    </tr>\n",
       "    <tr>\n",
       "      <th>11</th>\n",
       "      <td>1</td>\n",
       "      <td>1</td>\n",
       "      <td>0</td>\n",
       "      <td>0</td>\n",
       "      <td>0</td>\n",
       "      <td>0</td>\n",
       "      <td>4</td>\n",
       "      <td>0</td>\n",
       "      <td>0</td>\n",
       "      <td>0</td>\n",
       "      <td>...</td>\n",
       "      <td>1</td>\n",
       "      <td>0</td>\n",
       "      <td>6</td>\n",
       "      <td>0</td>\n",
       "      <td>0</td>\n",
       "      <td>0</td>\n",
       "      <td>0</td>\n",
       "      <td>10</td>\n",
       "      <td>0</td>\n",
       "      <td>0</td>\n",
       "    </tr>\n",
       "    <tr>\n",
       "      <th>12</th>\n",
       "      <td>0</td>\n",
       "      <td>0</td>\n",
       "      <td>0</td>\n",
       "      <td>0</td>\n",
       "      <td>0</td>\n",
       "      <td>0</td>\n",
       "      <td>1</td>\n",
       "      <td>0</td>\n",
       "      <td>0</td>\n",
       "      <td>0</td>\n",
       "      <td>...</td>\n",
       "      <td>2</td>\n",
       "      <td>0</td>\n",
       "      <td>0</td>\n",
       "      <td>0</td>\n",
       "      <td>0</td>\n",
       "      <td>0</td>\n",
       "      <td>0</td>\n",
       "      <td>1</td>\n",
       "      <td>0</td>\n",
       "      <td>0</td>\n",
       "    </tr>\n",
       "    <tr>\n",
       "      <th>13</th>\n",
       "      <td>0</td>\n",
       "      <td>0</td>\n",
       "      <td>0</td>\n",
       "      <td>0</td>\n",
       "      <td>0</td>\n",
       "      <td>0</td>\n",
       "      <td>2</td>\n",
       "      <td>0</td>\n",
       "      <td>0</td>\n",
       "      <td>0</td>\n",
       "      <td>...</td>\n",
       "      <td>0</td>\n",
       "      <td>2</td>\n",
       "      <td>0</td>\n",
       "      <td>10</td>\n",
       "      <td>0</td>\n",
       "      <td>0</td>\n",
       "      <td>0</td>\n",
       "      <td>0</td>\n",
       "      <td>0</td>\n",
       "      <td>0</td>\n",
       "    </tr>\n",
       "    <tr>\n",
       "      <th>14</th>\n",
       "      <td>0</td>\n",
       "      <td>1</td>\n",
       "      <td>0</td>\n",
       "      <td>0</td>\n",
       "      <td>0</td>\n",
       "      <td>0</td>\n",
       "      <td>1</td>\n",
       "      <td>0</td>\n",
       "      <td>0</td>\n",
       "      <td>0</td>\n",
       "      <td>...</td>\n",
       "      <td>0</td>\n",
       "      <td>0</td>\n",
       "      <td>0</td>\n",
       "      <td>2</td>\n",
       "      <td>0</td>\n",
       "      <td>0</td>\n",
       "      <td>0</td>\n",
       "      <td>0</td>\n",
       "      <td>0</td>\n",
       "      <td>0</td>\n",
       "    </tr>\n",
       "    <tr>\n",
       "      <th>15</th>\n",
       "      <td>0</td>\n",
       "      <td>0</td>\n",
       "      <td>0</td>\n",
       "      <td>0</td>\n",
       "      <td>0</td>\n",
       "      <td>0</td>\n",
       "      <td>0</td>\n",
       "      <td>0</td>\n",
       "      <td>0</td>\n",
       "      <td>0</td>\n",
       "      <td>...</td>\n",
       "      <td>0</td>\n",
       "      <td>0</td>\n",
       "      <td>0</td>\n",
       "      <td>0</td>\n",
       "      <td>9</td>\n",
       "      <td>0</td>\n",
       "      <td>0</td>\n",
       "      <td>0</td>\n",
       "      <td>0</td>\n",
       "      <td>0</td>\n",
       "    </tr>\n",
       "    <tr>\n",
       "      <th>16</th>\n",
       "      <td>0</td>\n",
       "      <td>0</td>\n",
       "      <td>0</td>\n",
       "      <td>0</td>\n",
       "      <td>0</td>\n",
       "      <td>0</td>\n",
       "      <td>0</td>\n",
       "      <td>0</td>\n",
       "      <td>0</td>\n",
       "      <td>0</td>\n",
       "      <td>...</td>\n",
       "      <td>0</td>\n",
       "      <td>0</td>\n",
       "      <td>0</td>\n",
       "      <td>0</td>\n",
       "      <td>0</td>\n",
       "      <td>0</td>\n",
       "      <td>0</td>\n",
       "      <td>0</td>\n",
       "      <td>0</td>\n",
       "      <td>0</td>\n",
       "    </tr>\n",
       "    <tr>\n",
       "      <th>17</th>\n",
       "      <td>0</td>\n",
       "      <td>0</td>\n",
       "      <td>0</td>\n",
       "      <td>0</td>\n",
       "      <td>0</td>\n",
       "      <td>0</td>\n",
       "      <td>13</td>\n",
       "      <td>0</td>\n",
       "      <td>0</td>\n",
       "      <td>0</td>\n",
       "      <td>...</td>\n",
       "      <td>3</td>\n",
       "      <td>0</td>\n",
       "      <td>0</td>\n",
       "      <td>0</td>\n",
       "      <td>0</td>\n",
       "      <td>0</td>\n",
       "      <td>0</td>\n",
       "      <td>36</td>\n",
       "      <td>32</td>\n",
       "      <td>0</td>\n",
       "    </tr>\n",
       "    <tr>\n",
       "      <th>18</th>\n",
       "      <td>0</td>\n",
       "      <td>0</td>\n",
       "      <td>0</td>\n",
       "      <td>0</td>\n",
       "      <td>0</td>\n",
       "      <td>0</td>\n",
       "      <td>0</td>\n",
       "      <td>0</td>\n",
       "      <td>0</td>\n",
       "      <td>0</td>\n",
       "      <td>...</td>\n",
       "      <td>0</td>\n",
       "      <td>0</td>\n",
       "      <td>0</td>\n",
       "      <td>0</td>\n",
       "      <td>0</td>\n",
       "      <td>0</td>\n",
       "      <td>1</td>\n",
       "      <td>6</td>\n",
       "      <td>0</td>\n",
       "      <td>0</td>\n",
       "    </tr>\n",
       "    <tr>\n",
       "      <th>19</th>\n",
       "      <td>0</td>\n",
       "      <td>1</td>\n",
       "      <td>0</td>\n",
       "      <td>0</td>\n",
       "      <td>0</td>\n",
       "      <td>1</td>\n",
       "      <td>1</td>\n",
       "      <td>0</td>\n",
       "      <td>0</td>\n",
       "      <td>0</td>\n",
       "      <td>...</td>\n",
       "      <td>0</td>\n",
       "      <td>0</td>\n",
       "      <td>0</td>\n",
       "      <td>3</td>\n",
       "      <td>0</td>\n",
       "      <td>1</td>\n",
       "      <td>3</td>\n",
       "      <td>0</td>\n",
       "      <td>0</td>\n",
       "      <td>0</td>\n",
       "    </tr>\n",
       "    <tr>\n",
       "      <th>20</th>\n",
       "      <td>0</td>\n",
       "      <td>0</td>\n",
       "      <td>0</td>\n",
       "      <td>0</td>\n",
       "      <td>0</td>\n",
       "      <td>0</td>\n",
       "      <td>0</td>\n",
       "      <td>0</td>\n",
       "      <td>0</td>\n",
       "      <td>0</td>\n",
       "      <td>...</td>\n",
       "      <td>0</td>\n",
       "      <td>0</td>\n",
       "      <td>0</td>\n",
       "      <td>0</td>\n",
       "      <td>0</td>\n",
       "      <td>0</td>\n",
       "      <td>0</td>\n",
       "      <td>0</td>\n",
       "      <td>0</td>\n",
       "      <td>0</td>\n",
       "    </tr>\n",
       "  </tbody>\n",
       "</table>\n",
       "<p>20 rows × 131 columns</p>\n",
       "</div>"
      ],
      "text/plain": [
       "         air_fresheners_candles  asian_foods  baby_accessories  \\\n",
       "user_id                                                          \n",
       "1                             0            0                 0   \n",
       "2                             0            3                 0   \n",
       "3                             0            0                 0   \n",
       "4                             0            0                 0   \n",
       "5                             1            4                 0   \n",
       "6                             0            0                 0   \n",
       "7                             0            0                 0   \n",
       "8                             0            1                 0   \n",
       "9                             0            0                 0   \n",
       "10                            0            1                 0   \n",
       "11                            1            1                 0   \n",
       "12                            0            0                 0   \n",
       "13                            0            0                 0   \n",
       "14                            0            1                 0   \n",
       "15                            0            0                 0   \n",
       "16                            0            0                 0   \n",
       "17                            0            0                 0   \n",
       "18                            0            0                 0   \n",
       "19                            0            1                 0   \n",
       "20                            0            0                 0   \n",
       "\n",
       "         baby_bath_body_care  baby_food_formula  bakery_desserts  \\\n",
       "user_id                                                            \n",
       "1                          0                  0                0   \n",
       "2                          0                  0                0   \n",
       "3                          0                  0                0   \n",
       "4                          0                  0                0   \n",
       "5                          0                  0                0   \n",
       "6                          0                  0                0   \n",
       "7                          0                  0                0   \n",
       "8                          0                  0                0   \n",
       "9                          0                  6                0   \n",
       "10                         0                  0                0   \n",
       "11                         0                  0                0   \n",
       "12                         0                  0                0   \n",
       "13                         0                  0                0   \n",
       "14                         0                  0                0   \n",
       "15                         0                  0                0   \n",
       "16                         0                  0                0   \n",
       "17                         0                  0                0   \n",
       "18                         0                  0                0   \n",
       "19                         0                  0                1   \n",
       "20                         0                  0                0   \n",
       "\n",
       "         baking_ingredients  baking_supplies_decor  beauty  beers_coolers  \\\n",
       "user_id                                                                     \n",
       "1                         0                      0       0              0   \n",
       "2                         2                      0       0              0   \n",
       "3                         0                      0       0              0   \n",
       "4                         0                      0       0              0   \n",
       "5                         0                      0       0              0   \n",
       "6                         0                      0       0              0   \n",
       "7                         3                      0       0              0   \n",
       "8                         1                      0       0              0   \n",
       "9                         2                      0       0              0   \n",
       "10                        0                      0       0              0   \n",
       "11                        4                      0       0              0   \n",
       "12                        1                      0       0              0   \n",
       "13                        2                      0       0              0   \n",
       "14                        1                      0       0              0   \n",
       "15                        0                      0       0              0   \n",
       "16                        0                      0       0              0   \n",
       "17                       13                      0       0              0   \n",
       "18                        0                      0       0              0   \n",
       "19                        1                      0       0              0   \n",
       "20                        0                      0       0              0   \n",
       "\n",
       "         ...  spreads  tea  tofu_meat_alternatives  tortillas_flat_bread  \\\n",
       "user_id  ...                                                               \n",
       "1        ...        1    0                       0                     0   \n",
       "2        ...        3    1                       1                     0   \n",
       "3        ...        4    1                       0                     0   \n",
       "4        ...        0    0                       0                     1   \n",
       "5        ...        0    0                       0                     0   \n",
       "6        ...        0    0                       0                     0   \n",
       "7        ...        0    0                       0                     0   \n",
       "8        ...        0    0                       1                     1   \n",
       "9        ...        0    0                       0                     0   \n",
       "10       ...        0    0                       0                     0   \n",
       "11       ...        1    0                       6                     0   \n",
       "12       ...        2    0                       0                     0   \n",
       "13       ...        0    2                       0                    10   \n",
       "14       ...        0    0                       0                     2   \n",
       "15       ...        0    0                       0                     0   \n",
       "16       ...        0    0                       0                     0   \n",
       "17       ...        3    0                       0                     0   \n",
       "18       ...        0    0                       0                     0   \n",
       "19       ...        0    0                       0                     3   \n",
       "20       ...        0    0                       0                     0   \n",
       "\n",
       "         trail_mix_snack_mix  trash_bags_liners  vitamins_supplements  \\\n",
       "user_id                                                                 \n",
       "1                          0                  0                     0   \n",
       "2                          0                  0                     0   \n",
       "3                          0                  0                     0   \n",
       "4                          0                  0                     0   \n",
       "5                          0                  0                     0   \n",
       "6                          0                  0                     0   \n",
       "7                          0                  0                     0   \n",
       "8                          0                  0                     0   \n",
       "9                          0                  0                     0   \n",
       "10                         0                  0                     0   \n",
       "11                         0                  0                     0   \n",
       "12                         0                  0                     0   \n",
       "13                         0                  0                     0   \n",
       "14                         0                  0                     0   \n",
       "15                         9                  0                     0   \n",
       "16                         0                  0                     0   \n",
       "17                         0                  0                     0   \n",
       "18                         0                  0                     1   \n",
       "19                         0                  1                     3   \n",
       "20                         0                  0                     0   \n",
       "\n",
       "         water_seltzer_sparkling_water  white_wines  cluster  \n",
       "user_id                                                       \n",
       "1                                    0            0        0  \n",
       "2                                    2            0        0  \n",
       "3                                    2            0        0  \n",
       "4                                    1            0        0  \n",
       "5                                    0            0        0  \n",
       "6                                    0            0        0  \n",
       "7                                    0            0        0  \n",
       "8                                    0            0        0  \n",
       "9                                    3            0        0  \n",
       "10                                   0            0        0  \n",
       "11                                  10            0        0  \n",
       "12                                   1            0        0  \n",
       "13                                   0            0        0  \n",
       "14                                   0            0        0  \n",
       "15                                   0            0        0  \n",
       "16                                   0            0        0  \n",
       "17                                  36           32        0  \n",
       "18                                   6            0        0  \n",
       "19                                   0            0        0  \n",
       "20                                   0            0        0  \n",
       "\n",
       "[20 rows x 131 columns]"
      ]
     },
     "execution_count": 24,
     "metadata": {},
     "output_type": "execute_result"
    }
   ],
   "source": [
    "prod_clusters = user_purchase.copy()\n",
    "prod_clusters['cluster'] = c_preds\n",
    "\n",
    "prod_clusters.head(20)"
   ]
  },
  {
   "cell_type": "code",
   "execution_count": 25,
   "metadata": {},
   "outputs": [],
   "source": [
    "\"\"\"\n",
    "converting output dataframe as csv file for testing usecases\n",
    "\"\"\"\n",
    "prod_clusters.to_csv(\"cluster_output.gz\")"
   ]
  },
  {
   "cell_type": "markdown",
   "metadata": {},
   "source": [
    "### Cluster Output Visualization\n",
    "\n",
    "The below graph represents the distribution of aisles(product categories) in each cluster."
   ]
  },
  {
   "cell_type": "code",
   "execution_count": 26,
   "metadata": {
    "scrolled": false
   },
   "outputs": [
    {
     "data": {
      "image/png": "[encoded data removed]",
      "text/plain": [
       "<Figure size 1080x576 with 3 Axes>"
      ]
     },
     "metadata": {
      "needs_background": "light"
     },
     "output_type": "display_data"
    }
   ],
   "source": [
    "fig,(a1,a2,a3) = plt.subplots(1,3,sharex=True, figsize=(15,8))\n",
    "\n",
    "c0 = prod_clusters[prod_clusters['cluster']==0].drop('cluster',axis=1).mean()\n",
    "a1.bar(range(len(prod_clusters.drop('cluster',axis=1).columns)),c0)\n",
    "a1.set_title('Aisles contribution in Cluster0')\n",
    "\n",
    "c1 = prod_clusters[prod_clusters['cluster']==1].drop('cluster',axis=1).mean()\n",
    "a2.bar(range(len(prod_clusters.drop('cluster',axis=1).columns)),c1)\n",
    "a2.set_title('Aisles contribution in Cluster1')\n",
    "\n",
    "c2 = prod_clusters[prod_clusters['cluster']==2].drop('cluster',axis=1).mean()\n",
    "a3.bar(range(len(prod_clusters.drop('cluster',axis=1).columns)),c2)\n",
    "a3.set_title('Aisles contribution in Cluster2')\n",
    "\n",
    "plt.show()"
   ]
  },
  {
   "cell_type": "markdown",
   "metadata": {},
   "source": [
    "### Top 20 products in all the three clusters formed"
   ]
  },
  {
   "cell_type": "code",
   "execution_count": 80,
   "metadata": {
    "scrolled": true
   },
   "outputs": [
    {
     "data": {
      "text/plain": [
       "packaged_cheese                  2.913742\n",
       "water_seltzer_sparkling_water    2.768419\n",
       "milk                             2.689072\n",
       "chips_pretzels                   2.218732\n",
       "soy_lactosefree                  2.071760\n",
       "refrigerated                     1.951801\n",
       "bread                            1.777537\n",
       "frozen_produce                   1.758788\n",
       "ice_cream_ice                    1.741843\n",
       "eggs                             1.556204\n",
       "crackers                         1.400169\n",
       "frozen_meals                     1.356707\n",
       "energy_granola_bars              1.343115\n",
       "soft_drinks                      1.338685\n",
       "packaged_produce                 1.306596\n",
       "fresh_herbs                      1.306209\n",
       "soup_broth_bouillon              1.213122\n",
       "cereal                           1.211417\n",
       "lunch_meat                       1.209063\n",
       "fresh_dips_tapenades             1.169916\n",
       "dtype: float64"
      ]
     },
     "execution_count": 80,
     "metadata": {},
     "output_type": "execute_result"
    }
   ],
   "source": [
    "c0.sort_values(ascending=False)[0:20]"
   ]
  },
  {
   "cell_type": "code",
   "execution_count": 81,
   "metadata": {},
   "outputs": [
    {
     "data": {
      "text/plain": [
       "packaged_cheese                  22.711699\n",
       "milk                             19.663314\n",
       "chips_pretzels                   14.630470\n",
       "bread                            13.094960\n",
       "soy_lactosefree                  12.265768\n",
       "frozen_produce                   10.344633\n",
       "baby_food_formula                10.031486\n",
       "crackers                          9.826074\n",
       "refrigerated                      9.266120\n",
       "ice_cream_ice                     9.088321\n",
       "lunch_meat                        8.732924\n",
       "eggs                              8.643597\n",
       "water_seltzer_sparkling_water     8.229504\n",
       "energy_granola_bars               8.019867\n",
       "cereal                            7.689367\n",
       "frozen_meals                      7.327633\n",
       "fresh_herbs                       7.170858\n",
       "fresh_dips_tapenades              6.772558\n",
       "other_creams_cheeses              6.576602\n",
       "soup_broth_bouillon               6.438336\n",
       "dtype: float64"
      ]
     },
     "execution_count": 81,
     "metadata": {},
     "output_type": "execute_result"
    }
   ],
   "source": [
    "c1.sort_values(ascending=False)[0:20]"
   ]
  },
  {
   "cell_type": "code",
   "execution_count": 82,
   "metadata": {
    "scrolled": true
   },
   "outputs": [
    {
     "data": {
      "text/plain": [
       "water_seltzer_sparkling_water    67.083629\n",
       "energy_granola_bars              22.124637\n",
       "refrigerated                     18.596384\n",
       "chips_pretzels                   18.309977\n",
       "soy_lactosefree                  13.360995\n",
       "milk                             13.065870\n",
       "packaged_cheese                  11.796254\n",
       "tea                              11.781724\n",
       "candy_chocolate                  10.861802\n",
       "soft_drinks                       9.951566\n",
       "crackers                          8.640620\n",
       "cream                             7.724572\n",
       "coffee                            7.702615\n",
       "bread                             7.338715\n",
       "nuts_seeds_dried_fruit            7.185664\n",
       "fresh_dips_tapenades              7.108815\n",
       "ice_cream_ice                     6.959638\n",
       "juice_nectars                     6.647401\n",
       "cereal                            6.183726\n",
       "frozen_produce                    5.644172\n",
       "dtype: float64"
      ]
     },
     "execution_count": 82,
     "metadata": {},
     "output_type": "execute_result"
    }
   ],
   "source": [
    "c2.sort_values(ascending=False)[0:20]"
   ]
  },
  {
   "cell_type": "markdown",
   "metadata": {},
   "source": [
    "## Cluster Analysis"
   ]
  },
  {
   "cell_type": "markdown",
   "metadata": {},
   "source": [
    "There are three clusters formed here. Each cluster has the domination of certain aisles and its related products.\n",
    "To analyse this, all the three clusters are created as a dataframe as shown below."
   ]
  },
  {
   "cell_type": "code",
   "execution_count": 32,
   "metadata": {
    "scrolled": true
   },
   "outputs": [
    {
     "data": {
      "text/html": [
       "<div>\n",
       "<style scoped>\n",
       "    .dataframe tbody tr th:only-of-type {\n",
       "        vertical-align: middle;\n",
       "    }\n",
       "\n",
       "    .dataframe tbody tr th {\n",
       "        vertical-align: top;\n",
       "    }\n",
       "\n",
       "    .dataframe thead th {\n",
       "        text-align: right;\n",
       "    }\n",
       "</style>\n",
       "<table border=\"1\" class=\"dataframe\">\n",
       "  <thead>\n",
       "    <tr style=\"text-align: right;\">\n",
       "      <th></th>\n",
       "      <th>air_fresheners_candles</th>\n",
       "      <th>asian_foods</th>\n",
       "      <th>baby_accessories</th>\n",
       "      <th>baby_bath_body_care</th>\n",
       "      <th>baby_food_formula</th>\n",
       "      <th>bakery_desserts</th>\n",
       "      <th>baking_ingredients</th>\n",
       "      <th>baking_supplies_decor</th>\n",
       "      <th>beauty</th>\n",
       "      <th>beers_coolers</th>\n",
       "      <th>...</th>\n",
       "      <th>spirits</th>\n",
       "      <th>spreads</th>\n",
       "      <th>tea</th>\n",
       "      <th>tofu_meat_alternatives</th>\n",
       "      <th>tortillas_flat_bread</th>\n",
       "      <th>trail_mix_snack_mix</th>\n",
       "      <th>trash_bags_liners</th>\n",
       "      <th>vitamins_supplements</th>\n",
       "      <th>water_seltzer_sparkling_water</th>\n",
       "      <th>white_wines</th>\n",
       "    </tr>\n",
       "  </thead>\n",
       "  <tbody>\n",
       "    <tr>\n",
       "      <th>0</th>\n",
       "      <td>0.082128</td>\n",
       "      <td>0.576373</td>\n",
       "      <td>0.022392</td>\n",
       "      <td>0.026096</td>\n",
       "      <td>0.995253</td>\n",
       "      <td>0.127355</td>\n",
       "      <td>1.106307</td>\n",
       "      <td>0.088028</td>\n",
       "      <td>0.024179</td>\n",
       "      <td>0.218186</td>\n",
       "      <td>...</td>\n",
       "      <td>0.120243</td>\n",
       "      <td>0.933348</td>\n",
       "      <td>0.796569</td>\n",
       "      <td>0.422398</td>\n",
       "      <td>0.608069</td>\n",
       "      <td>0.123799</td>\n",
       "      <td>0.120177</td>\n",
       "      <td>0.150916</td>\n",
       "      <td>2.768419</td>\n",
       "      <td>0.130988</td>\n",
       "    </tr>\n",
       "    <tr>\n",
       "      <th>1</th>\n",
       "      <td>0.244895</td>\n",
       "      <td>3.061412</td>\n",
       "      <td>0.199276</td>\n",
       "      <td>0.187154</td>\n",
       "      <td>10.031486</td>\n",
       "      <td>0.570918</td>\n",
       "      <td>6.349663</td>\n",
       "      <td>0.395886</td>\n",
       "      <td>0.085655</td>\n",
       "      <td>0.365959</td>\n",
       "      <td>...</td>\n",
       "      <td>0.305704</td>\n",
       "      <td>5.766170</td>\n",
       "      <td>3.843326</td>\n",
       "      <td>2.650739</td>\n",
       "      <td>4.252087</td>\n",
       "      <td>0.557841</td>\n",
       "      <td>0.503320</td>\n",
       "      <td>0.809174</td>\n",
       "      <td>8.229504</td>\n",
       "      <td>0.331808</td>\n",
       "    </tr>\n",
       "    <tr>\n",
       "      <th>2</th>\n",
       "      <td>0.327737</td>\n",
       "      <td>2.337423</td>\n",
       "      <td>0.130772</td>\n",
       "      <td>0.132709</td>\n",
       "      <td>4.527607</td>\n",
       "      <td>0.551501</td>\n",
       "      <td>3.558605</td>\n",
       "      <td>0.258637</td>\n",
       "      <td>0.105263</td>\n",
       "      <td>1.059089</td>\n",
       "      <td>...</td>\n",
       "      <td>0.316435</td>\n",
       "      <td>5.167904</td>\n",
       "      <td>11.781724</td>\n",
       "      <td>1.476590</td>\n",
       "      <td>1.872780</td>\n",
       "      <td>1.065547</td>\n",
       "      <td>0.547627</td>\n",
       "      <td>1.070068</td>\n",
       "      <td>67.083629</td>\n",
       "      <td>0.345819</td>\n",
       "    </tr>\n",
       "  </tbody>\n",
       "</table>\n",
       "<p>3 rows × 130 columns</p>\n",
       "</div>"
      ],
      "text/plain": [
       "   air_fresheners_candles  asian_foods  baby_accessories  baby_bath_body_care  \\\n",
       "0                0.082128     0.576373          0.022392             0.026096   \n",
       "1                0.244895     3.061412          0.199276             0.187154   \n",
       "2                0.327737     2.337423          0.130772             0.132709   \n",
       "\n",
       "   baby_food_formula  bakery_desserts  baking_ingredients  \\\n",
       "0           0.995253         0.127355            1.106307   \n",
       "1          10.031486         0.570918            6.349663   \n",
       "2           4.527607         0.551501            3.558605   \n",
       "\n",
       "   baking_supplies_decor    beauty  beers_coolers  ...   spirits   spreads  \\\n",
       "0               0.088028  0.024179       0.218186  ...  0.120243  0.933348   \n",
       "1               0.395886  0.085655       0.365959  ...  0.305704  5.766170   \n",
       "2               0.258637  0.105263       1.059089  ...  0.316435  5.167904   \n",
       "\n",
       "         tea  tofu_meat_alternatives  tortillas_flat_bread  \\\n",
       "0   0.796569                0.422398              0.608069   \n",
       "1   3.843326                2.650739              4.252087   \n",
       "2  11.781724                1.476590              1.872780   \n",
       "\n",
       "   trail_mix_snack_mix  trash_bags_liners  vitamins_supplements  \\\n",
       "0             0.123799           0.120177              0.150916   \n",
       "1             0.557841           0.503320              0.809174   \n",
       "2             1.065547           0.547627              1.070068   \n",
       "\n",
       "   water_seltzer_sparkling_water  white_wines  \n",
       "0                       2.768419     0.130988  \n",
       "1                       8.229504     0.331808  \n",
       "2                      67.083629     0.345819  \n",
       "\n",
       "[3 rows x 130 columns]"
      ]
     },
     "execution_count": 32,
     "metadata": {},
     "output_type": "execute_result"
    }
   ],
   "source": [
    "clusterMean = pd.DataFrame([c0,c1,c2], columns = prod_clusters.drop(['cluster'],axis=1).columns)\n",
    "#clusterMean = pd.DataFrame([c0,c1,c2,c3], columns = prod_clusters.drop(['cluster'],axis=1).columns)\n",
    "clusterMean.head()"
   ]
  },
  {
   "cell_type": "markdown",
   "metadata": {},
   "source": [
    "In the above dataframe, each row represents the cluster. Three rows represents the three clusters formed. And, aisles are\n",
    "represented as columns.\n",
    "To find the contribution of each column (aisle) in the cluster, each value is transformed into the percentage which \n",
    "denotes each column's contribution."
   ]
  },
  {
   "cell_type": "code",
   "execution_count": 33,
   "metadata": {
    "scrolled": true
   },
   "outputs": [
    {
     "data": {
      "text/html": [
       "<div>\n",
       "<style scoped>\n",
       "    .dataframe tbody tr th:only-of-type {\n",
       "        vertical-align: middle;\n",
       "    }\n",
       "\n",
       "    .dataframe tbody tr th {\n",
       "        vertical-align: top;\n",
       "    }\n",
       "\n",
       "    .dataframe thead th {\n",
       "        text-align: right;\n",
       "    }\n",
       "</style>\n",
       "<table border=\"1\" class=\"dataframe\">\n",
       "  <thead>\n",
       "    <tr style=\"text-align: right;\">\n",
       "      <th></th>\n",
       "      <th>air_fresheners_candles</th>\n",
       "      <th>asian_foods</th>\n",
       "      <th>baby_accessories</th>\n",
       "      <th>baby_bath_body_care</th>\n",
       "      <th>baby_food_formula</th>\n",
       "      <th>bakery_desserts</th>\n",
       "      <th>baking_ingredients</th>\n",
       "      <th>baking_supplies_decor</th>\n",
       "      <th>beauty</th>\n",
       "      <th>beers_coolers</th>\n",
       "      <th>...</th>\n",
       "      <th>spirits</th>\n",
       "      <th>spreads</th>\n",
       "      <th>tea</th>\n",
       "      <th>tofu_meat_alternatives</th>\n",
       "      <th>tortillas_flat_bread</th>\n",
       "      <th>trail_mix_snack_mix</th>\n",
       "      <th>trash_bags_liners</th>\n",
       "      <th>vitamins_supplements</th>\n",
       "      <th>water_seltzer_sparkling_water</th>\n",
       "      <th>white_wines</th>\n",
       "    </tr>\n",
       "  </thead>\n",
       "  <tbody>\n",
       "    <tr>\n",
       "      <th>0</th>\n",
       "      <td>0.111922</td>\n",
       "      <td>0.785461</td>\n",
       "      <td>0.030515</td>\n",
       "      <td>0.035563</td>\n",
       "      <td>1.356296</td>\n",
       "      <td>0.173555</td>\n",
       "      <td>1.507637</td>\n",
       "      <td>0.119962</td>\n",
       "      <td>0.032950</td>\n",
       "      <td>0.297336</td>\n",
       "      <td>...</td>\n",
       "      <td>0.163862</td>\n",
       "      <td>1.271934</td>\n",
       "      <td>1.085537</td>\n",
       "      <td>0.575629</td>\n",
       "      <td>0.828655</td>\n",
       "      <td>0.168709</td>\n",
       "      <td>0.163773</td>\n",
       "      <td>0.205664</td>\n",
       "      <td>3.772706</td>\n",
       "      <td>0.178506</td>\n",
       "    </tr>\n",
       "    <tr>\n",
       "      <th>1</th>\n",
       "      <td>0.058402</td>\n",
       "      <td>0.730078</td>\n",
       "      <td>0.047523</td>\n",
       "      <td>0.044632</td>\n",
       "      <td>2.392282</td>\n",
       "      <td>0.136151</td>\n",
       "      <td>1.514251</td>\n",
       "      <td>0.094410</td>\n",
       "      <td>0.020427</td>\n",
       "      <td>0.087273</td>\n",
       "      <td>...</td>\n",
       "      <td>0.072903</td>\n",
       "      <td>1.375101</td>\n",
       "      <td>0.916546</td>\n",
       "      <td>0.632141</td>\n",
       "      <td>1.014027</td>\n",
       "      <td>0.133033</td>\n",
       "      <td>0.120030</td>\n",
       "      <td>0.192970</td>\n",
       "      <td>1.962551</td>\n",
       "      <td>0.079129</td>\n",
       "    </tr>\n",
       "    <tr>\n",
       "      <th>2</th>\n",
       "      <td>0.075930</td>\n",
       "      <td>0.541536</td>\n",
       "      <td>0.030297</td>\n",
       "      <td>0.030746</td>\n",
       "      <td>1.048960</td>\n",
       "      <td>0.127772</td>\n",
       "      <td>0.824460</td>\n",
       "      <td>0.059921</td>\n",
       "      <td>0.024387</td>\n",
       "      <td>0.245371</td>\n",
       "      <td>...</td>\n",
       "      <td>0.073312</td>\n",
       "      <td>1.197304</td>\n",
       "      <td>2.729599</td>\n",
       "      <td>0.342098</td>\n",
       "      <td>0.433887</td>\n",
       "      <td>0.246867</td>\n",
       "      <td>0.126875</td>\n",
       "      <td>0.247914</td>\n",
       "      <td>15.541989</td>\n",
       "      <td>0.080120</td>\n",
       "    </tr>\n",
       "  </tbody>\n",
       "</table>\n",
       "<p>3 rows × 130 columns</p>\n",
       "</div>"
      ],
      "text/plain": [
       "   air_fresheners_candles  asian_foods  baby_accessories  baby_bath_body_care  \\\n",
       "0                0.111922     0.785461          0.030515             0.035563   \n",
       "1                0.058402     0.730078          0.047523             0.044632   \n",
       "2                0.075930     0.541536          0.030297             0.030746   \n",
       "\n",
       "   baby_food_formula  bakery_desserts  baking_ingredients  \\\n",
       "0           1.356296         0.173555            1.507637   \n",
       "1           2.392282         0.136151            1.514251   \n",
       "2           1.048960         0.127772            0.824460   \n",
       "\n",
       "   baking_supplies_decor    beauty  beers_coolers  ...   spirits   spreads  \\\n",
       "0               0.119962  0.032950       0.297336  ...  0.163862  1.271934   \n",
       "1               0.094410  0.020427       0.087273  ...  0.072903  1.375101   \n",
       "2               0.059921  0.024387       0.245371  ...  0.073312  1.197304   \n",
       "\n",
       "        tea  tofu_meat_alternatives  tortillas_flat_bread  \\\n",
       "0  1.085537                0.575629              0.828655   \n",
       "1  0.916546                0.632141              1.014027   \n",
       "2  2.729599                0.342098              0.433887   \n",
       "\n",
       "   trail_mix_snack_mix  trash_bags_liners  vitamins_supplements  \\\n",
       "0             0.168709           0.163773              0.205664   \n",
       "1             0.133033           0.120030              0.192970   \n",
       "2             0.246867           0.126875              0.247914   \n",
       "\n",
       "   water_seltzer_sparkling_water  white_wines  \n",
       "0                       3.772706     0.178506  \n",
       "1                       1.962551     0.079129  \n",
       "2                      15.541989     0.080120  \n",
       "\n",
       "[3 rows x 130 columns]"
      ]
     },
     "execution_count": 33,
     "metadata": {},
     "output_type": "execute_result"
    }
   ],
   "source": [
    "aisleClusters = clusterMean.iloc[:, :].apply(lambda x: (x / x.sum())*100,axis=1)\n",
    "aisleClusters.head()"
   ]
  },
  {
   "cell_type": "markdown",
   "metadata": {},
   "source": [
    "From the above dataframe, the percentage of each column contribution in the corresponding cluster can be found. For example, baby food formula represents 2,4% in the third cluster (index-2). And, it seems that baby food formula contributes more in the third cluster, so does baby accessories and baby bath body care. It clearly denotes the third cluster encloses the customers who are buyers of the baby products.\n",
    "\n",
    "Likewise, each cluster is characterised by few aisles. And, all general items like beauty, laundry, cleaning falls under second cluster (index - 1)"
   ]
  },
  {
   "cell_type": "code",
   "execution_count": 28,
   "metadata": {},
   "outputs": [],
   "source": [
    "\"\"\"\n",
    "Retrieves the cluster given the aisle name\n",
    "\"\"\"\n",
    "def get_cluster_for_aisle(aisle_name):\n",
    "    aisle_name = aisle_name.replace(\" \",\"_\")\n",
    "    return aisleClusters[aisle_name].idxmax()"
   ]
  },
  {
   "cell_type": "code",
   "execution_count": 29,
   "metadata": {},
   "outputs": [],
   "source": [
    "def get_aisles_for_clusters(cluster):\n",
    "    aisles=[]\n",
    "    for column in prod_clusters.drop(['cluster'],axis=1).columns :\n",
    "        if(cluster == aisleClusters[column].idxmax()):\n",
    "            aisles.append(column)\n",
    "            \n",
    "    return aisles       "
   ]
  },
  {
   "cell_type": "code",
   "execution_count": 30,
   "metadata": {},
   "outputs": [],
   "source": [
    "\"\"\"\n",
    "Retrieves aisle names\n",
    "\"\"\"\n",
    "def get_aisles():\n",
    "    return [column for column in prod_clusters.drop(['cluster'],axis=1).columns]"
   ]
  },
  {
   "cell_type": "markdown",
   "metadata": {},
   "source": [
    "### Column (Aisle) names"
   ]
  },
  {
   "cell_type": "code",
   "execution_count": 63,
   "metadata": {},
   "outputs": [
    {
     "name": "stdout",
     "output_type": "stream",
     "text": [
      "air_fresheners_candles\n",
      "asian_foods\n",
      "baby_accessories\n",
      "baby_bath_body_care\n",
      "baby_food_formula\n",
      "bakery_desserts\n",
      "baking_ingredients\n",
      "baking_supplies_decor\n",
      "beauty\n",
      "beers_coolers\n",
      "body_lotions_soap\n",
      "bread\n",
      "breakfast_bakery\n",
      "breakfast_bars_pastries\n",
      "bulk_dried_fruits_vegetables\n",
      "bulk_grains_rice_dried_goods\n",
      "buns_rolls\n",
      "butter\n",
      "candy_chocolate\n",
      "canned_fruit_applesauce\n",
      "canned_jarred_vegetables\n",
      "canned_meals_beans\n",
      "canned_meat_seafood\n",
      "cat_food_care\n",
      "cereal\n",
      "chips_pretzels\n",
      "cleaning_products\n",
      "cocoa_drink_mixes\n",
      "coffee\n",
      "cold_flu_allergy\n",
      "condiments\n",
      "cookies_cakes\n",
      "crackers\n",
      "cream\n",
      "deodorants\n",
      "diapers_wipes\n",
      "digestion\n",
      "dish_detergents\n",
      "dog_food_care\n",
      "doughs_gelatins_bake_mixes\n",
      "dry_pasta\n",
      "eggs\n",
      "energy_granola_bars\n",
      "energy_sports_drinks\n",
      "eye_ear_care\n",
      "facial_care\n",
      "feminine_care\n",
      "first_aid\n",
      "food_storage\n",
      "fresh_dips_tapenades\n",
      "fresh_herbs\n",
      "fresh_pasta\n",
      "frozen_appetizers_sides\n",
      "frozen_breads_doughs\n",
      "frozen_breakfast\n",
      "frozen_dessert\n",
      "frozen_juice\n",
      "frozen_meals\n",
      "frozen_meat_seafood\n",
      "frozen_pizza\n",
      "frozen_produce\n",
      "frozen_vegan_vegetarian\n",
      "fruit_vegetable_snacks\n",
      "grains_rice_dried_goods\n",
      "granola\n",
      "hair_care\n",
      "honeys_syrups_nectars\n",
      "hot_cereal_pancake_mixes\n",
      "hot_dogs_bacon_sausage\n",
      "ice_cream_ice\n",
      "ice_cream_toppings\n",
      "indian_foods\n",
      "instant_foods\n",
      "juice_nectars\n",
      "kitchen_supplies\n",
      "kosher_foods\n",
      "latino_foods\n",
      "laundry\n",
      "lunch_meat\n",
      "marinades_meat_preparation\n",
      "meat_counter\n",
      "milk\n",
      "mint_gum\n",
      "missing\n",
      "more_household\n",
      "muscles_joints_pain_relief\n",
      "nuts_seeds_dried_fruit\n",
      "oils_vinegars\n",
      "oral_hygiene\n",
      "other\n",
      "other_creams_cheeses\n",
      "packaged_cheese\n",
      "packaged_meat\n",
      "packaged_poultry\n",
      "packaged_produce\n",
      "packaged_seafood\n",
      "paper_goods\n",
      "pasta_sauce\n",
      "pickled_goods_olives\n",
      "plates_bowls_cups_flatware\n",
      "popcorn_jerky\n",
      "poultry_counter\n",
      "prepared_meals\n",
      "prepared_soups_salads\n",
      "preserved_dips_spreads\n",
      "protein_meal_replacements\n",
      "red_wines\n",
      "refrigerated\n",
      "refrigerated_pudding_desserts\n",
      "salad_dressing_toppings\n",
      "seafood_counter\n",
      "shave_needs\n",
      "skin_care\n",
      "soap\n",
      "soft_drinks\n",
      "soup_broth_bouillon\n",
      "soy_lactosefree\n",
      "specialty_cheeses\n",
      "specialty_wines_champagnes\n",
      "spices_seasonings\n",
      "spirits\n",
      "spreads\n",
      "tea\n",
      "tofu_meat_alternatives\n",
      "tortillas_flat_bread\n",
      "trail_mix_snack_mix\n",
      "trash_bags_liners\n",
      "vitamins_supplements\n",
      "water_seltzer_sparkling_water\n",
      "white_wines\n"
     ]
    }
   ],
   "source": [
    "for col in get_aisles():\n",
    "    print(col)"
   ]
  },
  {
   "cell_type": "markdown",
   "metadata": {},
   "source": [
    "### Aisles mostly visited by the customers belonging to Cluster 0\n",
    "\n",
    "Cluster 0 encloses all the general items like laundry, cleaning items, body care, frozen foods, meat, etc., <br>\n",
    "It represents items which are used in regular basis."
   ]
  },
  {
   "cell_type": "code",
   "execution_count": 85,
   "metadata": {
    "scrolled": true
   },
   "outputs": [
    {
     "name": "stdout",
     "output_type": "stream",
     "text": [
      "64\n"
     ]
    },
    {
     "data": {
      "text/plain": [
       "['air_fresheners_candles',\n",
       " 'asian_foods',\n",
       " 'bakery_desserts',\n",
       " 'baking_supplies_decor',\n",
       " 'beauty',\n",
       " 'beers_coolers',\n",
       " 'body_lotions_soap',\n",
       " 'canned_jarred_vegetables',\n",
       " 'canned_meat_seafood',\n",
       " 'cat_food_care',\n",
       " 'cleaning_products',\n",
       " 'cocoa_drink_mixes',\n",
       " 'cold_flu_allergy',\n",
       " 'condiments',\n",
       " 'deodorants',\n",
       " 'digestion',\n",
       " 'dog_food_care',\n",
       " 'eggs',\n",
       " 'eye_ear_care',\n",
       " 'facial_care',\n",
       " 'feminine_care',\n",
       " 'first_aid',\n",
       " 'food_storage',\n",
       " 'fresh_herbs',\n",
       " 'frozen_dessert',\n",
       " 'frozen_juice',\n",
       " 'frozen_meals',\n",
       " 'frozen_meat_seafood',\n",
       " 'frozen_pizza',\n",
       " 'frozen_vegan_vegetarian',\n",
       " 'hair_care',\n",
       " 'honeys_syrups_nectars',\n",
       " 'ice_cream_ice',\n",
       " 'ice_cream_toppings',\n",
       " 'indian_foods',\n",
       " 'juice_nectars',\n",
       " 'kitchen_supplies',\n",
       " 'kosher_foods',\n",
       " 'laundry',\n",
       " 'marinades_meat_preparation',\n",
       " 'meat_counter',\n",
       " 'missing',\n",
       " 'more_household',\n",
       " 'muscles_joints_pain_relief',\n",
       " 'oils_vinegars',\n",
       " 'oral_hygiene',\n",
       " 'other',\n",
       " 'packaged_poultry',\n",
       " 'packaged_produce',\n",
       " 'packaged_seafood',\n",
       " 'paper_goods',\n",
       " 'prepared_soups_salads',\n",
       " 'preserved_dips_spreads',\n",
       " 'red_wines',\n",
       " 'refrigerated_pudding_desserts',\n",
       " 'salad_dressing_toppings',\n",
       " 'seafood_counter',\n",
       " 'shave_needs',\n",
       " 'soup_broth_bouillon',\n",
       " 'specialty_wines_champagnes',\n",
       " 'spices_seasonings',\n",
       " 'spirits',\n",
       " 'trash_bags_liners',\n",
       " 'white_wines']"
      ]
     },
     "execution_count": 85,
     "metadata": {},
     "output_type": "execute_result"
    }
   ],
   "source": [
    "c0aisles = get_aisles_for_clusters(0)\n",
    "print(len(c0aisles))\n",
    "c0aisles"
   ]
  },
  {
   "cell_type": "markdown",
   "metadata": {},
   "source": [
    "#### Get the cluster given the aisle name - Examples for Cluster 0"
   ]
  },
  {
   "cell_type": "code",
   "execution_count": 34,
   "metadata": {},
   "outputs": [
    {
     "name": "stdout",
     "output_type": "stream",
     "text": [
      "beauty belongs to cluster 0\n",
      "frozen_pizza belongs to cluster 0\n",
      "laundry belongs to cluster 0\n"
     ]
    }
   ],
   "source": [
    "#Accepts aisle name as an argument\n",
    "aisle_name = \"beauty\"\n",
    "match_cluster = get_cluster_for_aisle(aisle_name)\n",
    "print(\"%s belongs to cluster %d\"%(aisle_name,match_cluster))\n",
    "\n",
    "aisle_name = \"frozen_pizza\"\n",
    "match_cluster = get_cluster_for_aisle(aisle_name)\n",
    "print(\"%s belongs to cluster %d\"%(aisle_name,match_cluster))\n",
    "\n",
    "aisle_name = \"laundry\"\n",
    "match_cluster = get_cluster_for_aisle(aisle_name)\n",
    "print(\"%s belongs to cluster %d\"%(aisle_name,match_cluster))"
   ]
  },
  {
   "cell_type": "markdown",
   "metadata": {},
   "source": [
    "### Aisles mostly visited by the customers belonging to Cluster 1\n",
    "\n",
    "Cluster 1 represents baby products like baby accessories, baby bath body care, baby food formula, diapers wipes, etc., <br> Interestingly, milk is also categorized in this cluster only."
   ]
  },
  {
   "cell_type": "code",
   "execution_count": 86,
   "metadata": {
    "scrolled": true
   },
   "outputs": [
    {
     "name": "stdout",
     "output_type": "stream",
     "text": [
      "40\n"
     ]
    },
    {
     "data": {
      "text/plain": [
       "['baby_accessories',\n",
       " 'baby_bath_body_care',\n",
       " 'baby_food_formula',\n",
       " 'baking_ingredients',\n",
       " 'bread',\n",
       " 'breakfast_bakery',\n",
       " 'bulk_grains_rice_dried_goods',\n",
       " 'buns_rolls',\n",
       " 'butter',\n",
       " 'canned_fruit_applesauce',\n",
       " 'canned_meals_beans',\n",
       " 'cereal',\n",
       " 'crackers',\n",
       " 'diapers_wipes',\n",
       " 'dish_detergents',\n",
       " 'doughs_gelatins_bake_mixes',\n",
       " 'dry_pasta',\n",
       " 'fresh_pasta',\n",
       " 'frozen_appetizers_sides',\n",
       " 'frozen_breads_doughs',\n",
       " 'frozen_breakfast',\n",
       " 'frozen_produce',\n",
       " 'grains_rice_dried_goods',\n",
       " 'hot_cereal_pancake_mixes',\n",
       " 'hot_dogs_bacon_sausage',\n",
       " 'instant_foods',\n",
       " 'latino_foods',\n",
       " 'lunch_meat',\n",
       " 'milk',\n",
       " 'other_creams_cheeses',\n",
       " 'packaged_cheese',\n",
       " 'packaged_meat',\n",
       " 'pasta_sauce',\n",
       " 'pickled_goods_olives',\n",
       " 'poultry_counter',\n",
       " 'prepared_meals',\n",
       " 'specialty_cheeses',\n",
       " 'spreads',\n",
       " 'tofu_meat_alternatives',\n",
       " 'tortillas_flat_bread']"
      ]
     },
     "execution_count": 86,
     "metadata": {},
     "output_type": "execute_result"
    }
   ],
   "source": [
    "c1aisles = get_aisles_for_clusters(1)\n",
    "print(len(c1aisles))\n",
    "c1aisles"
   ]
  },
  {
   "cell_type": "markdown",
   "metadata": {},
   "source": [
    "#### Get the cluster given the aisle name - Examples for Cluster 1"
   ]
  },
  {
   "cell_type": "code",
   "execution_count": 35,
   "metadata": {},
   "outputs": [
    {
     "name": "stdout",
     "output_type": "stream",
     "text": [
      "baby food formula belongs to cluster 1\n",
      "baby accessories belongs to cluster 1\n",
      "baby bath body care belongs to cluster 1\n",
      "diapers_wipes belongs to cluster 1\n"
     ]
    }
   ],
   "source": [
    "#Accepts aisle name as an argument\n",
    "aisle_name = \"baby food formula\"\n",
    "match_cluster = get_cluster_for_aisle(aisle_name)\n",
    "print(\"%s belongs to cluster %d\"%(aisle_name,match_cluster))\n",
    "\n",
    "aisle_name = \"baby accessories\"\n",
    "match_cluster = get_cluster_for_aisle(aisle_name)\n",
    "print(\"%s belongs to cluster %d\"%(aisle_name,match_cluster))\n",
    "\n",
    "aisle_name = \"baby bath body care\"\n",
    "match_cluster = get_cluster_for_aisle(aisle_name)\n",
    "print(\"%s belongs to cluster %d\"%(aisle_name,match_cluster))\n",
    "\n",
    "aisle_name = \"diapers_wipes\"\n",
    "match_cluster = get_cluster_for_aisle(aisle_name)\n",
    "print(\"%s belongs to cluster %d\"%(aisle_name,match_cluster))"
   ]
  },
  {
   "cell_type": "markdown",
   "metadata": {},
   "source": [
    "### Aisles mostly visited by the customers belonging to Cluster 2\n",
    "\n",
    "Cluster 2 represents snacks items like candies, bars, drinks, nuts, etc.,"
   ]
  },
  {
   "cell_type": "code",
   "execution_count": 87,
   "metadata": {
    "scrolled": true
   },
   "outputs": [
    {
     "name": "stdout",
     "output_type": "stream",
     "text": [
      "26\n"
     ]
    },
    {
     "data": {
      "text/plain": [
       "['breakfast_bars_pastries',\n",
       " 'bulk_dried_fruits_vegetables',\n",
       " 'candy_chocolate',\n",
       " 'chips_pretzels',\n",
       " 'coffee',\n",
       " 'cookies_cakes',\n",
       " 'cream',\n",
       " 'energy_granola_bars',\n",
       " 'energy_sports_drinks',\n",
       " 'fresh_dips_tapenades',\n",
       " 'fruit_vegetable_snacks',\n",
       " 'granola',\n",
       " 'mint_gum',\n",
       " 'nuts_seeds_dried_fruit',\n",
       " 'plates_bowls_cups_flatware',\n",
       " 'popcorn_jerky',\n",
       " 'protein_meal_replacements',\n",
       " 'refrigerated',\n",
       " 'skin_care',\n",
       " 'soap',\n",
       " 'soft_drinks',\n",
       " 'soy_lactosefree',\n",
       " 'tea',\n",
       " 'trail_mix_snack_mix',\n",
       " 'vitamins_supplements',\n",
       " 'water_seltzer_sparkling_water']"
      ]
     },
     "execution_count": 87,
     "metadata": {},
     "output_type": "execute_result"
    }
   ],
   "source": [
    "c2aisles = get_aisles_for_clusters(2)\n",
    "print(len(c2aisles))\n",
    "c2aisles"
   ]
  },
  {
   "cell_type": "markdown",
   "metadata": {},
   "source": [
    "#### Get the cluster given the aisle name - Examples for Cluster 2"
   ]
  },
  {
   "cell_type": "code",
   "execution_count": 36,
   "metadata": {},
   "outputs": [
    {
     "name": "stdout",
     "output_type": "stream",
     "text": [
      "trail_mix_snack_mix belongs to cluster 2\n",
      "popcorn_jerky belongs to cluster 2\n",
      "soft_drinks belongs to cluster 2\n"
     ]
    }
   ],
   "source": [
    "#Accepts aisle name as an argument\n",
    "aisle_name = \"trail_mix_snack_mix\"\n",
    "match_cluster = get_cluster_for_aisle(aisle_name)\n",
    "print(\"%s belongs to cluster %d\"%(aisle_name,match_cluster))\n",
    "\n",
    "#Accepts aisle name as an argument\n",
    "aisle_name = \"popcorn_jerky\"\n",
    "match_cluster = get_cluster_for_aisle(aisle_name)\n",
    "print(\"%s belongs to cluster %d\"%(aisle_name,match_cluster))\n",
    "\n",
    "#Accepts aisle name as an argument\n",
    "aisle_name = \"soft_drinks\"\n",
    "match_cluster = get_cluster_for_aisle(aisle_name)\n",
    "print(\"%s belongs to cluster %d\"%(aisle_name,match_cluster))"
   ]
  },
  {
   "cell_type": "markdown",
   "metadata": {},
   "source": [
    "## Sampling Representative Dataset"
   ]
  },
  {
   "cell_type": "code",
   "execution_count": 217,
   "metadata": {},
   "outputs": [
    {
     "name": "stdout",
     "output_type": "stream",
     "text": [
      "(206034, 130)\n",
      "(42000, 130)\n",
      "(42000, 65)\n"
     ]
    }
   ],
   "source": [
    "\"\"\"\n",
    "Sampling representative dataset using Random sampling without replacement\n",
    "\"\"\"\n",
    "sample_dataset = user_purchase.copy()\n",
    "\n",
    "#checking for any rows with zeros in all columns (no rows found)\n",
    "sample_dataset[(sample_dataset!= 0).any(axis=1)].shape\n",
    "print(sample_dataset.shape)\n",
    "\n",
    "#Extracting 1/5th of the dataset - Random Sampling of rows without replacement \n",
    "sampled = sample_dataset.sample(n=42000, axis=0, random_state=42)\n",
    "\n",
    "#Keeping only half of the aisles - Random sampling of columns without replacement\n",
    "colsampled = sampled.sample(n=65, axis=1, random_state=42)\n",
    "print(sampled.shape)\n",
    "print(colsampled.shape)\n",
    "\n",
    "user_purchase = pd.DataFrame(colsampled)\n",
    "user_purchase.head(10)\n",
    "\n",
    "user_purchase.to_csv('cust_orders.gz')"
   ]
  },
  {
   "cell_type": "markdown",
   "metadata": {},
   "source": [
    "## Reference\n",
    "\n",
    "1. https://scikit-learn.org/stable/modules/clustering.html <br>\n",
    "2. https://scikit-learn.org/stable/auto_examples/cluster/plot_kmeans_silhouette_analysis.html<br>\n",
    "3. https://matplotlib.org/3.2.1/api/_as_gen/matplotlib.pyplot.subplots.html<br>"
   ]
  },
  {
   "cell_type": "code",
   "execution_count": null,
   "metadata": {},
   "outputs": [],
   "source": []
  }
 ],
 "metadata": {
  "kernelspec": {
   "display_name": "Python 3",
   "language": "python",
   "name": "python3"
  },
  "language_info": {
   "codemirror_mode": {
    "name": "ipython",
    "version": 3
   },
   "file_extension": ".py",
   "mimetype": "text/x-python",
   "name": "python",
   "nbconvert_exporter": "python",
   "pygments_lexer": "ipython3",
   "version": "3.7.6"
  }
 },
 "nbformat": 4,
 "nbformat_minor": 4
}
